{
 "cells": [
  {
   "cell_type": "markdown",
   "metadata": {},
   "source": [
    "# Import libraries"
   ]
  },
  {
   "cell_type": "code",
   "execution_count": 1,
   "metadata": {},
   "outputs": [],
   "source": [
    "# Common\n",
    "from common import data_paths as dp\n",
    "from common import bigram_processing as bp\n",
    "from common import globals as gl\n",
    "from common import data_processing as dproc\n",
    "from common import data_loading as dl\n",
    "\n",
    "# General\n",
    "import numpy as np\n",
    "import pandas as pd\n",
    "import scapy.all as scapy\n",
    "import pickle\n",
    "from sklearn.model_selection import StratifiedShuffleSplit\n",
    "from sklearn.pipeline import Pipeline\n",
    "from sklearn.model_selection import GridSearchCV\n",
    "from matplotlib import pyplot as plt\n",
    "from sklearn.metrics import roc_auc_score, roc_curve, auc, classification_report\n",
    "import re"
   ]
  },
  {
   "cell_type": "markdown",
   "metadata": {},
   "source": [
    "# Shannon entropy"
   ]
  },
  {
   "cell_type": "code",
   "execution_count": 2,
   "metadata": {},
   "outputs": [],
   "source": [
    "def qname_entropy_for_levels(qname):\n",
    "    txt = qname.replace('.','')\n",
    "    single_chars = set(txt)\n",
    "    return -sum([txt.count(c)/len(txt) * np.log2(txt.count(c)/len(txt)) for c in single_chars])        "
   ]
  },
  {
   "cell_type": "code",
   "execution_count": 3,
   "metadata": {},
   "outputs": [
    {
     "name": "stdout",
     "output_type": "stream",
     "text": [
      "4.390319531114783\n"
     ]
    }
   ],
   "source": [
    "print(qname_entropy_for_levels(\"CIC-VIRTUAL-MACHINE._smb._tcp.local\"))"
   ]
  },
  {
   "cell_type": "markdown",
   "metadata": {},
   "source": [
    "# Load attack files"
   ]
  },
  {
   "cell_type": "code",
   "execution_count": 4,
   "metadata": {},
   "outputs": [
    {
     "name": "stdout",
     "output_type": "stream",
     "text": [
      "[{'time': 1605986007.034573, 'query': '200.20.168.192.in-add.', 'src': '18:66:da:9b:e3:7e', 'len': 53}, {'time': 1605986007.034607, 'query': '200.20.168.192.in-addr.arpa.', 'src': '18:66:da:9b:e3:7e', 'len': 53}, {'time': 1605986007.44471, 'query': '200.20.168.192.in-add.', 'src': '18:66:da:9b:e3:7e', 'len': 53}, {'time': 1605986007.444721, 'query': '200.20.168.192.in-addr.arpa.', 'src': '18:66:da:9b:e3:7e', 'len': 53}, {'time': 1605986007.857156, 'query': '252.0.0.224.in-addr.a.', 'src': '18:66:da:9b:e3:7e', 'len': 50}, {'time': 1605986007.857202, 'query': '252.0.0.224.in-addr.arpa.', 'src': '18:66:da:9b:e3:7e', 'len': 50}, {'time': 1605986008.267312, 'query': '252.0.0.224.in-addr.arpa.', 'src': '18:66:da:9b:e3:7e', 'len': 50}, {'time': 1605986008.267318, 'query': '252.0.0.224.in-addr.a.', 'src': '18:66:da:9b:e3:7e', 'len': 50}, {'time': 1605986008.680076, 'query': '3.0.0.0.1.0.0.0.0.0.0.', 'src': '18:66:da:9b:e3:7e', 'len': 98}, {'time': 1605986008.680091, 'query': '3.0.0.0.1.0.0.0.0.0.0.0.0.0.0.0.0.0.0.0.0.', 'src': '18:66:da:9b:e3:7e', 'len': 98}]\n",
      "53328\n"
     ]
    }
   ],
   "source": [
    "data_attack = dl.load_ts(dp.PCAP_PATH + dp.ATTACK_LIGHT_PATH + dp.ATTACK_PATH + 'light_audio.pcap')\n",
    "print(data_attack[:10])\n",
    "print(len(data_attack))"
   ]
  },
  {
   "cell_type": "code",
   "execution_count": 5,
   "metadata": {},
   "outputs": [
    {
     "name": "stdout",
     "output_type": "stream",
     "text": [
      "[{'time': 1605996546.308662, 'query': '2.20.168.192.in-addr.arpa.', 'src': '18:66:da:9b:e3:7e', 'len': 51}, {'time': 1605996546.308662, 'query': '2.20.168.192.in-addr..', 'src': '18:66:da:9b:e3:7e', 'len': 51}, {'time': 1605996546.721159, 'query': '3.0.0.0.1.0.0.0.0.0.0.', 'src': '18:66:da:9b:e3:7e', 'len': 98}, {'time': 1605996546.721161, 'query': '3.0.0.0.1.0.0.0.0.0.0.0.0.0.0.0.0.0.0.0.0.', 'src': '18:66:da:9b:e3:7e', 'len': 98}, {'time': 1605996547.131902, 'query': '3.0.0.0.1.0.0.0.0.0.0.', 'src': '18:66:da:9b:e3:7e', 'len': 98}, {'time': 1605996547.132087, 'query': '3.0.0.0.1.0.0.0.0.0.0.0.0.0.0.0.0.0.0.0.0.', 'src': '18:66:da:9b:e3:7e', 'len': 98}, {'time': 1605996547.544286, 'query': '252.0.0.224.in-addr.a.', 'src': '18:66:da:9b:e3:7e', 'len': 50}, {'time': 1605996547.544415, 'query': '252.0.0.224.in-addr.arpa.', 'src': '18:66:da:9b:e3:7e', 'len': 50}, {'time': 1605996547.955713, 'query': '252.0.0.224.in-addr.a.', 'src': '18:66:da:9b:e3:7e', 'len': 50}, {'time': 1605996547.95575, 'query': '252.0.0.224.in-addr.arpa.', 'src': '18:66:da:9b:e3:7e', 'len': 50}]\n",
      "38420\n"
     ]
    }
   ],
   "source": [
    "data_attack2 = dl.load_ts(dp.PCAP_PATH + dp.ATTACK_LIGHT_PATH + dp.ATTACK_PATH + 'light_compressed.pcap')\n",
    "print(data_attack2[:10])\n",
    "print(len(data_attack2))"
   ]
  },
  {
   "cell_type": "markdown",
   "metadata": {},
   "source": [
    "# Load benign files"
   ]
  },
  {
   "cell_type": "code",
   "execution_count": 6,
   "metadata": {},
   "outputs": [
    {
     "name": "stdout",
     "output_type": "stream",
     "text": [
      "[{'time': 1605968334.998699, 'query': '100.20.168.192.in-add.', 'src': '18:66:da:9b:e3:7e', 'len': 53}, {'time': 1605968334.998708, 'query': '100.20.168.192.in-addr.arpa.', 'src': '18:66:da:9b:e3:7e', 'len': 53}, {'time': 1605968335.410983, 'query': '2.20.168.192.in-addr..', 'src': '18:66:da:9b:e3:7e', 'len': 51}, {'time': 1605968335.41101, 'query': '2.20.168.192.in-addr.arpa.', 'src': '18:66:da:9b:e3:7e', 'len': 51}, {'time': 1605968335.821554, 'query': '2.20.168.192.in-addr..', 'src': '18:66:da:9b:e3:7e', 'len': 51}, {'time': 1605968335.821592, 'query': '2.20.168.192.in-addr.arpa.', 'src': '18:66:da:9b:e3:7e', 'len': 51}, {'time': 1605968336.233946, 'query': '150.20.168.192.in-add.', 'src': '18:66:da:9b:e3:7e', 'len': 53}, {'time': 1605968336.234074, 'query': '150.20.168.192.in-addr.arpa.', 'src': '18:66:da:9b:e3:7e', 'len': 53}, {'time': 1605968336.644281, 'query': '150.20.168.192.in-add.', 'src': '18:66:da:9b:e3:7e', 'len': 53}, {'time': 1605968336.644294, 'query': '150.20.168.192.in-addr.arpa.', 'src': '18:66:da:9b:e3:7e', 'len': 53}]\n",
      "101588\n"
     ]
    }
   ],
   "source": [
    "data_benign = dl.load_ts(dp.PCAP_PATH + dp.ATTACK_LIGHT_PATH + dp.BENIGN_PATH + 'benign.pcap')\n",
    "print(data_benign[:10])\n",
    "print(len(data_benign))"
   ]
  },
  {
   "cell_type": "markdown",
   "metadata": {},
   "source": [
    "# Label data"
   ]
  },
  {
   "cell_type": "code",
   "execution_count": 7,
   "metadata": {},
   "outputs": [
    {
     "name": "stdout",
     "output_type": "stream",
     "text": [
      "49036\n",
      "4292\n",
      "[({'time': Timestamp('2020-11-21 19:13:27.034573078'), 'query': '200.20.168.192.in-add.', 'src': '18:66:da:9b:e3:7e', 'len': 53, 'entropy': 3.292770193936991}, 1), ({'time': Timestamp('2020-11-21 19:13:27.034606934'), 'query': '200.20.168.192.in-addr.arpa.', 'src': '18:66:da:9b:e3:7e', 'len': 53, 'entropy': 3.5383105956150054}, 1), ({'time': Timestamp('2020-11-21 19:13:27.444710016'), 'query': '200.20.168.192.in-add.', 'src': '18:66:da:9b:e3:7e', 'len': 53, 'entropy': 3.292770193936991}, 1), ({'time': Timestamp('2020-11-21 19:13:27.444720984'), 'query': '200.20.168.192.in-addr.arpa.', 'src': '18:66:da:9b:e3:7e', 'len': 53, 'entropy': 3.5383105956150054}, 1), ({'time': Timestamp('2020-11-21 19:13:27.857156038'), 'query': '252.0.0.224.in-addr.a.', 'src': '18:66:da:9b:e3:7e', 'len': 50, 'entropy': 3.125}, 1), ({'time': Timestamp('2020-11-21 19:13:27.857202053'), 'query': '252.0.0.224.in-addr.arpa.', 'src': '18:66:da:9b:e3:7e', 'len': 50, 'entropy': 3.260828171224455}, 1), ({'time': Timestamp('2020-11-21 19:13:28.267312050'), 'query': '252.0.0.224.in-addr.arpa.', 'src': '18:66:da:9b:e3:7e', 'len': 50, 'entropy': 3.260828171224455}, 1), ({'time': Timestamp('2020-11-21 19:13:28.267318010'), 'query': '252.0.0.224.in-addr.a.', 'src': '18:66:da:9b:e3:7e', 'len': 50, 'entropy': 3.125}, 1), ({'time': Timestamp('2020-11-21 19:13:28.680075884'), 'query': '3.0.0.0.1.0.0.0.0.0.0.', 'src': '18:66:da:9b:e3:7e', 'len': 98, 'entropy': 0.8658566174572235}, 1), ({'time': Timestamp('2020-11-21 19:13:28.680090904'), 'query': '3.0.0.0.1.0.0.0.0.0.0.0.0.0.0.0.0.0.0.0.0.', 'src': '18:66:da:9b:e3:7e', 'len': 98, 'entropy': 0.5489544344250401}, 1)]\n",
      "[({'time': Timestamp('2020-11-21 19:13:34.155515909'), 'query': 'init.MF2WI2LPL4ZDAMJYFUYDCLJRGBPTCMJNGU2C.', 'src': '00:0c:29:d8:a6:63', 'len': 106, 'entropy': 4.377567157116928}, 0), ({'time': Timestamp('2020-11-21 19:13:34.158859015'), 'query': '0.J4HgHlgzQH6j0bdP8G0TvVurqBiZnrqUrqFReUM.', 'src': '00:0c:29:d8:a6:63', 'len': 271, 'entropy': 4.746439344671014}, 0), ({'time': Timestamp('2020-11-21 19:13:34.664200068'), 'query': '1.sYGn-M0fhq8WULTczFc30MXU27CkjvDx3jq6wd9.', 'src': '00:0c:29:d8:a6:63', 'len': 271, 'entropy': 4.971928094887363}, 0), ({'time': Timestamp('2020-11-21 19:13:35.179826975'), 'query': '2.zRG6I5WrzI3vD69Vq2ns45ekF6jdOT02kncINBI.', 'src': '00:0c:29:d8:a6:63', 'len': 271, 'entropy': 4.684183719779188}, 0), ({'time': Timestamp('2020-11-21 19:13:35.695451975'), 'query': '3.HU_zYOuo8AxuWBnSBQYlqMNXqZsqPZOtfTiWuFW.', 'src': '00:0c:29:d8:a6:63', 'len': 271, 'entropy': 4.765311532225102}, 0), ({'time': Timestamp('2020-11-21 19:13:36.211060047'), 'query': '4.j1h8u66QO2DzG3_D1TC80U1_RQUqnOU8bO8lqFi.', 'src': '00:0c:29:d8:a6:63', 'len': 271, 'entropy': 4.515311532225102}, 0), ({'time': Timestamp('2020-11-21 19:13:36.727066040'), 'query': '5.Y9xg3wmaCXVLs-5EidLieBisz-wIYX6raVEwtHl.', 'src': '00:0c:29:d8:a6:63', 'len': 271, 'entropy': 4.634183719779189}, 0), ({'time': Timestamp('2020-11-21 19:13:37.242285967'), 'query': '6.F8PEOAOmF3aaFuK8hJO_nQcppgLxLOberKi1t_J.', 'src': '00:0c:29:d8:a6:63', 'len': 271, 'entropy': 4.653055907333275}, 0), ({'time': Timestamp('2020-11-21 19:13:37.757889032'), 'query': '7.ST3VPMmeESMItnkq8jYmK42WtFMugm3-O_efg1W.', 'src': '00:0c:29:d8:a6:63', 'len': 271, 'entropy': 4.784183719779188}, 0), ({'time': Timestamp('2020-11-21 19:13:38.273555040'), 'query': '8.zGetNsvPl_mWe8GOFJZHP0W42yzPVIE5XAVdooh.', 'src': '00:0c:29:d8:a6:63', 'len': 271, 'entropy': 4.8530559073332755}, 0)]\n",
      "[({'time': Timestamp('2020-11-21 19:13:27.034573078'), 'query': '200.20.168.192.in-add.', 'src': '18:66:da:9b:e3:7e', 'len': 53, 'entropy': 3.292770193936991}, 1), ({'time': Timestamp('2020-11-21 19:13:27.034606934'), 'query': '200.20.168.192.in-addr.arpa.', 'src': '18:66:da:9b:e3:7e', 'len': 53, 'entropy': 3.5383105956150054}, 1), ({'time': Timestamp('2020-11-21 19:13:27.444710016'), 'query': '200.20.168.192.in-add.', 'src': '18:66:da:9b:e3:7e', 'len': 53, 'entropy': 3.292770193936991}, 1), ({'time': Timestamp('2020-11-21 19:13:27.444720984'), 'query': '200.20.168.192.in-addr.arpa.', 'src': '18:66:da:9b:e3:7e', 'len': 53, 'entropy': 3.5383105956150054}, 1), ({'time': Timestamp('2020-11-21 19:13:27.857156038'), 'query': '252.0.0.224.in-addr.a.', 'src': '18:66:da:9b:e3:7e', 'len': 50, 'entropy': 3.125}, 1), ({'time': Timestamp('2020-11-21 19:13:27.857202053'), 'query': '252.0.0.224.in-addr.arpa.', 'src': '18:66:da:9b:e3:7e', 'len': 50, 'entropy': 3.260828171224455}, 1), ({'time': Timestamp('2020-11-21 19:13:28.267312050'), 'query': '252.0.0.224.in-addr.arpa.', 'src': '18:66:da:9b:e3:7e', 'len': 50, 'entropy': 3.260828171224455}, 1), ({'time': Timestamp('2020-11-21 19:13:28.267318010'), 'query': '252.0.0.224.in-addr.a.', 'src': '18:66:da:9b:e3:7e', 'len': 50, 'entropy': 3.125}, 1), ({'time': Timestamp('2020-11-21 19:13:28.680075884'), 'query': '3.0.0.0.1.0.0.0.0.0.0.', 'src': '18:66:da:9b:e3:7e', 'len': 98, 'entropy': 0.8658566174572235}, 1), ({'time': Timestamp('2020-11-21 19:13:28.680090904'), 'query': '3.0.0.0.1.0.0.0.0.0.0.0.0.0.0.0.0.0.0.0.0.', 'src': '18:66:da:9b:e3:7e', 'len': 98, 'entropy': 0.5489544344250401}, 1)]\n"
     ]
    }
   ],
   "source": [
    "data_labeled = []\n",
    "\n",
    "\n",
    "for d in data_attack:\n",
    "    d['time'] = pd.to_datetime(d['time'], unit='s')\n",
    "    d['entropy'] = qname_entropy_for_levels(d['query'])\n",
    "    if dproc.not_exfil(d['query']):\n",
    "        data_labeled.append((d, 1))\n",
    "    else:\n",
    "        data_labeled.append((d, 0))\n",
    "    \n",
    "print(len([d for d in data_labeled if d[1] == 1]))\n",
    "print(len([d for d in data_labeled if d[1] == 0]))\n",
    "print([d for d in data_labeled if d[1] == 1][:10])\n",
    "print([d for d in data_labeled if d[1] == 0][:10])\n",
    "\n",
    "print(data_labeled[:10])"
   ]
  },
  {
   "cell_type": "code",
   "execution_count": 8,
   "metadata": {},
   "outputs": [
    {
     "name": "stdout",
     "output_type": "stream",
     "text": [
      "28355\n",
      "10065\n",
      "[({'time': Timestamp('2020-11-21 22:09:06.308661938'), 'query': '2.20.168.192.in-addr.arpa.', 'src': '18:66:da:9b:e3:7e', 'len': 51, 'entropy': 3.546439344671015}, 1), ({'time': Timestamp('2020-11-21 22:09:06.308661938'), 'query': '2.20.168.192.in-addr..', 'src': '18:66:da:9b:e3:7e', 'len': 51, 'entropy': 3.452819531114783}, 1), ({'time': Timestamp('2020-11-21 22:09:06.721158981'), 'query': '3.0.0.0.1.0.0.0.0.0.0.', 'src': '18:66:da:9b:e3:7e', 'len': 98, 'entropy': 0.8658566174572235}, 1), ({'time': Timestamp('2020-11-21 22:09:06.721160889'), 'query': '3.0.0.0.1.0.0.0.0.0.0.0.0.0.0.0.0.0.0.0.0.', 'src': '18:66:da:9b:e3:7e', 'len': 98, 'entropy': 0.5489544344250401}, 1), ({'time': Timestamp('2020-11-21 22:09:07.131901979'), 'query': '3.0.0.0.1.0.0.0.0.0.0.', 'src': '18:66:da:9b:e3:7e', 'len': 98, 'entropy': 0.8658566174572235}, 1), ({'time': Timestamp('2020-11-21 22:09:07.132086991'), 'query': '3.0.0.0.1.0.0.0.0.0.0.0.0.0.0.0.0.0.0.0.0.', 'src': '18:66:da:9b:e3:7e', 'len': 98, 'entropy': 0.5489544344250401}, 1), ({'time': Timestamp('2020-11-21 22:09:07.544286013'), 'query': '252.0.0.224.in-addr.a.', 'src': '18:66:da:9b:e3:7e', 'len': 50, 'entropy': 3.125}, 1), ({'time': Timestamp('2020-11-21 22:09:07.544414997'), 'query': '252.0.0.224.in-addr.arpa.', 'src': '18:66:da:9b:e3:7e', 'len': 50, 'entropy': 3.260828171224455}, 1), ({'time': Timestamp('2020-11-21 22:09:07.955713034'), 'query': '252.0.0.224.in-addr.a.', 'src': '18:66:da:9b:e3:7e', 'len': 50, 'entropy': 3.125}, 1), ({'time': Timestamp('2020-11-21 22:09:07.955749989'), 'query': '252.0.0.224.in-addr.arpa.', 'src': '18:66:da:9b:e3:7e', 'len': 50, 'entropy': 3.260828171224455}, 1)]\n",
      "[({'time': Timestamp('2020-11-21 22:09:11.625185966'), 'query': 'init.INXWIZKWGIXHIYLSFZTXU7BTGQZQ.base64..', 'src': '00:0c:29:d8:a6:63', 'len': 81, 'entropy': 4.5239860659612985}, 0), ({'time': Timestamp('2020-11-21 22:09:11.628700018'), 'query': '0.J4HgHlgzQH6j0SNn8G0GwNZnIVSYnjbHr6FBeUM.', 'src': '00:0c:29:d8:a6:63', 'len': 271, 'entropy': 4.584183719779188}, 0), ({'time': Timestamp('2020-11-21 22:09:12.133359909'), 'query': '1.DS3wKMK4IF73n0ejEv2TO792IGoiUtWlWMuYhdW.', 'src': '00:0c:29:d8:a6:63', 'len': 271, 'entropy': 4.903055907333275}, 0), ({'time': Timestamp('2020-11-21 22:09:12.648915052'), 'query': '2.S6TbbKiWXx_M0NhqAZsuHdtpNQYrt2fTmBO3QE3.', 'src': '00:0c:29:d8:a6:63', 'len': 271, 'entropy': 4.971928094887363}, 0), ({'time': Timestamp('2020-11-21 22:09:13.164938927'), 'query': '3.H5wjpFN1YvH6RiURFb0etHd6ucrCcyHtsdDYh6j.', 'src': '00:0c:29:d8:a6:63', 'len': 271, 'entropy': 4.653055907333276}, 0), ({'time': Timestamp('2020-11-21 22:09:13.680283070'), 'query': '4.dwe7Qu8k1TJTAoTz0i0KLmQYNwirI6995NW2EM8.', 'src': '00:0c:29:d8:a6:63', 'len': 271, 'entropy': 4.8530559073332755}, 0), ({'time': Timestamp('2020-11-21 22:09:14.195835114'), 'query': '5.OPG9WuAv0SSCEJdmYaXtChz6jgXROM_g0X-07gb.', 'src': '00:0c:29:d8:a6:63', 'len': 271, 'entropy': 4.815311532225102}, 0), ({'time': Timestamp('2020-11-21 22:09:14.711525917'), 'query': '6.XzggZWHPsi-Og1lKgazWBqSoZv8afg8RiflQwfJ.', 'src': '00:0c:29:d8:a6:63', 'len': 271, 'entropy': 4.562814895472354}, 0), ({'time': Timestamp('2020-11-21 22:09:15.227463007'), 'query': '7.K47FONKGSqIZgBKR4aIw2xeopibVoa7e391RtY6.', 'src': '00:0c:29:d8:a6:63', 'len': 271, 'entropy': 4.78418371977919}, 0), ({'time': Timestamp('2020-11-21 22:09:15.742759943'), 'query': '8.tFxMbLGhB6WCJivCQZi0icPmqmK2DI4cWX6KR2K.', 'src': '00:0c:29:d8:a6:63', 'len': 271, 'entropy': 4.784183719779188}, 0)]\n",
      "[({'time': Timestamp('2020-11-21 22:09:06.308661938'), 'query': '2.20.168.192.in-addr.arpa.', 'src': '18:66:da:9b:e3:7e', 'len': 51, 'entropy': 3.546439344671015}, 1), ({'time': Timestamp('2020-11-21 22:09:06.308661938'), 'query': '2.20.168.192.in-addr..', 'src': '18:66:da:9b:e3:7e', 'len': 51, 'entropy': 3.452819531114783}, 1), ({'time': Timestamp('2020-11-21 22:09:06.721158981'), 'query': '3.0.0.0.1.0.0.0.0.0.0.', 'src': '18:66:da:9b:e3:7e', 'len': 98, 'entropy': 0.8658566174572235}, 1), ({'time': Timestamp('2020-11-21 22:09:06.721160889'), 'query': '3.0.0.0.1.0.0.0.0.0.0.0.0.0.0.0.0.0.0.0.0.', 'src': '18:66:da:9b:e3:7e', 'len': 98, 'entropy': 0.5489544344250401}, 1), ({'time': Timestamp('2020-11-21 22:09:07.131901979'), 'query': '3.0.0.0.1.0.0.0.0.0.0.', 'src': '18:66:da:9b:e3:7e', 'len': 98, 'entropy': 0.8658566174572235}, 1), ({'time': Timestamp('2020-11-21 22:09:07.132086991'), 'query': '3.0.0.0.1.0.0.0.0.0.0.0.0.0.0.0.0.0.0.0.0.', 'src': '18:66:da:9b:e3:7e', 'len': 98, 'entropy': 0.5489544344250401}, 1), ({'time': Timestamp('2020-11-21 22:09:07.544286013'), 'query': '252.0.0.224.in-addr.a.', 'src': '18:66:da:9b:e3:7e', 'len': 50, 'entropy': 3.125}, 1), ({'time': Timestamp('2020-11-21 22:09:07.544414997'), 'query': '252.0.0.224.in-addr.arpa.', 'src': '18:66:da:9b:e3:7e', 'len': 50, 'entropy': 3.260828171224455}, 1), ({'time': Timestamp('2020-11-21 22:09:07.955713034'), 'query': '252.0.0.224.in-addr.a.', 'src': '18:66:da:9b:e3:7e', 'len': 50, 'entropy': 3.125}, 1), ({'time': Timestamp('2020-11-21 22:09:07.955749989'), 'query': '252.0.0.224.in-addr.arpa.', 'src': '18:66:da:9b:e3:7e', 'len': 50, 'entropy': 3.260828171224455}, 1)]\n"
     ]
    }
   ],
   "source": [
    "data_labeled2 = []\n",
    "\n",
    "\n",
    "for d in data_attack2:\n",
    "    d['time'] = pd.to_datetime(d['time'], unit='s')\n",
    "    d['entropy'] = qname_entropy_for_levels(d['query'])\n",
    "    if dproc.not_exfil(d['query']):\n",
    "        data_labeled2.append((d, 1))\n",
    "    else:\n",
    "        data_labeled2.append((d, 0))\n",
    "    \n",
    "print(len([d for d in data_labeled2 if d[1] == 1]))\n",
    "print(len([d for d in data_labeled2 if d[1] == 0]))\n",
    "print([d for d in data_labeled2 if d[1] == 1][:10])\n",
    "print([d for d in data_labeled2 if d[1] == 0][:10])\n",
    "\n",
    "print(data_labeled2[:10])"
   ]
  },
  {
   "cell_type": "code",
   "execution_count": 9,
   "metadata": {},
   "outputs": [
    {
     "name": "stdout",
     "output_type": "stream",
     "text": [
      "[{'time': Timestamp('2020-11-21 14:18:54.998698950'), 'query': '100.20.168.192.in-add.', 'src': '18:66:da:9b:e3:7e', 'len': 53, 'entropy': 3.2927701939369904}, {'time': Timestamp('2020-11-21 14:18:54.998708010'), 'query': '100.20.168.192.in-addr.arpa.', 'src': '18:66:da:9b:e3:7e', 'len': 53, 'entropy': 3.5383105956150054}, {'time': Timestamp('2020-11-21 14:18:55.410983086'), 'query': '2.20.168.192.in-addr..', 'src': '18:66:da:9b:e3:7e', 'len': 51, 'entropy': 3.452819531114783}, {'time': Timestamp('2020-11-21 14:18:55.411010027'), 'query': '2.20.168.192.in-addr.arpa.', 'src': '18:66:da:9b:e3:7e', 'len': 51, 'entropy': 3.546439344671015}, {'time': Timestamp('2020-11-21 14:18:55.821553946'), 'query': '2.20.168.192.in-addr..', 'src': '18:66:da:9b:e3:7e', 'len': 51, 'entropy': 3.452819531114783}, {'time': Timestamp('2020-11-21 14:18:55.821592093'), 'query': '2.20.168.192.in-addr.arpa.', 'src': '18:66:da:9b:e3:7e', 'len': 51, 'entropy': 3.546439344671015}, {'time': Timestamp('2020-11-21 14:18:56.233946085'), 'query': '150.20.168.192.in-add.', 'src': '18:66:da:9b:e3:7e', 'len': 53, 'entropy': 3.4548223999466066}, {'time': Timestamp('2020-11-21 14:18:56.234074116'), 'query': '150.20.168.192.in-addr.arpa.', 'src': '18:66:da:9b:e3:7e', 'len': 53, 'entropy': 3.663532754804254}, {'time': Timestamp('2020-11-21 14:18:56.644280910'), 'query': '150.20.168.192.in-add.', 'src': '18:66:da:9b:e3:7e', 'len': 53, 'entropy': 3.4548223999466066}, {'time': Timestamp('2020-11-21 14:18:56.644294024'), 'query': '150.20.168.192.in-addr.arpa.', 'src': '18:66:da:9b:e3:7e', 'len': 53, 'entropy': 3.663532754804254}]\n"
     ]
    }
   ],
   "source": [
    "for i in range(len(data_benign)):\n",
    "    data_benign[i]['time'] = pd.to_datetime(data_benign[i]['time'], unit='s')\n",
    "    data_benign[i]['entropy'] = qname_entropy_for_levels(data_benign[i]['query'])\n",
    "    \n",
    "print(data_benign[:10])"
   ]
  },
  {
   "cell_type": "markdown",
   "metadata": {},
   "source": [
    "# Prophet"
   ]
  },
  {
   "cell_type": "markdown",
   "metadata": {},
   "source": [
    "## Train"
   ]
  },
  {
   "cell_type": "code",
   "execution_count": 10,
   "metadata": {},
   "outputs": [
    {
     "name": "stdout",
     "output_type": "stream",
     "text": [
      "                             ds         y\n",
      "0 2020-11-21 10:18:54.998698950  3.292770\n",
      "1 2020-11-21 10:18:54.998708010  3.538311\n",
      "2 2020-11-21 10:18:55.410983086  3.452820\n",
      "3 2020-11-21 10:18:55.411010027  3.546439\n",
      "4 2020-11-21 10:18:55.821553946  3.452820\n",
      "                                  ds         y\n",
      "101583 2020-11-21 14:09:49.385001898  3.260828\n",
      "101584 2020-11-21 14:09:49.797344923  3.454822\n",
      "101585 2020-11-21 14:09:49.797486067  3.663533\n",
      "101586 2020-11-21 14:09:50.207705021  3.454822\n",
      "101587 2020-11-21 14:09:50.207729101  3.663533\n"
     ]
    }
   ],
   "source": [
    "\n",
    "df_benign = pd.DataFrame(data_benign)\n",
    "df_benign['time'] = pd.to_datetime(df_benign['time'], unit='s')\n",
    "df_benign['time'] = df_benign['time'] - pd.Timedelta(hours=4)\n",
    "df_benign.sort_values(by='time', inplace=True)\n",
    "\n",
    "df_benign_prophet = df_benign[['time','entropy']]\n",
    "df_benign_prophet.columns = ['ds', 'y']\n",
    "\n",
    "print(df_benign_prophet.head())\n",
    "print(df_benign_prophet.tail())"
   ]
  },
  {
   "cell_type": "code",
   "execution_count": 11,
   "metadata": {},
   "outputs": [
    {
     "name": "stderr",
     "output_type": "stream",
     "text": [
      "/home/tux/Desktop/Licenta/AplicatieDetectieAnomalii/venv/lib/python3.10/site-packages/tqdm/auto.py:21: TqdmWarning: IProgress not found. Please update jupyter and ipywidgets. See https://ipywidgets.readthedocs.io/en/stable/user_install.html\n",
      "  from .autonotebook import tqdm as notebook_tqdm\n",
      "Importing plotly failed. Interactive plots will not work.\n",
      "14:52:50 - cmdstanpy - INFO - Chain [1] start processing\n",
      "14:53:00 - cmdstanpy - INFO - Chain [1] done processing\n"
     ]
    },
    {
     "data": {
      "text/plain": [
       "<prophet.forecaster.Prophet at 0x7853aa478d30>"
      ]
     },
     "execution_count": 11,
     "metadata": {},
     "output_type": "execute_result"
    }
   ],
   "source": [
    "from prophet import Prophet\n",
    "\n",
    "# Train model\n",
    "model = Prophet(weekly_seasonality=False, yearly_seasonality=False, daily_seasonality=False, holidays=None)\n",
    "\n",
    "model.fit(df_benign_prophet)\n",
    "\n"
   ]
  },
  {
   "cell_type": "code",
   "execution_count": 12,
   "metadata": {},
   "outputs": [],
   "source": [
    "with open('prophet_ts_all.pkl', 'wb') as f:\n",
    "    pickle.dump(model, f)"
   ]
  },
  {
   "cell_type": "markdown",
   "metadata": {},
   "source": [
    "## Use to predict"
   ]
  },
  {
   "cell_type": "code",
   "execution_count": 11,
   "metadata": {},
   "outputs": [
    {
     "name": "stdout",
     "output_type": "stream",
     "text": [
      "                                 ds         y\n",
      "53323 2020-11-21 18:06:52.246382952  3.538311\n",
      "53324 2020-11-21 18:06:52.658248901  3.292770\n",
      "53325 2020-11-21 18:06:52.658281088  3.538311\n",
      "53326 2020-11-21 18:06:53.068574905  3.292770\n",
      "53327 2020-11-21 18:06:53.068591118  3.538311\n",
      "                             ds         y\n",
      "0 2020-11-21 15:13:27.034573078  3.292770\n",
      "1 2020-11-21 15:13:27.034606934  3.538311\n",
      "2 2020-11-21 15:13:27.444710016  3.292770\n",
      "3 2020-11-21 15:13:27.444720984  3.538311\n",
      "4 2020-11-21 15:13:27.857156038  3.125000\n"
     ]
    }
   ],
   "source": [
    "df_attack = pd.DataFrame(data_attack)\n",
    "df_attack['time'] = pd.to_datetime(df_attack['time'], unit='s')\n",
    "df_attack['time'] = df_attack['time'] - pd.Timedelta(hours=4)\n",
    "df_attack.sort_values(by='time', inplace=True)\n",
    "\n",
    "df_attack_prophet = df_attack[['time','entropy']]\n",
    "df_attack_prophet.columns = ['ds', 'y']\n",
    "\n",
    "print(df_attack_prophet.tail())\n",
    "print(df_attack_prophet.head())"
   ]
  },
  {
   "cell_type": "code",
   "execution_count": 12,
   "metadata": {},
   "outputs": [
    {
     "name": "stdout",
     "output_type": "stream",
     "text": [
      "                                 ds\n",
      "53323 2020-11-21 18:06:52.246382952\n",
      "53324 2020-11-21 18:06:52.658248901\n",
      "53325 2020-11-21 18:06:52.658281088\n",
      "53326 2020-11-21 18:06:53.068574905\n",
      "53327 2020-11-21 18:06:53.068591118\n",
      "                             ds\n",
      "0 2020-11-21 15:13:27.034573078\n",
      "1 2020-11-21 15:13:27.034606934\n",
      "2 2020-11-21 15:13:27.444710016\n",
      "3 2020-11-21 15:13:27.444720984\n",
      "4 2020-11-21 15:13:27.857156038\n"
     ]
    }
   ],
   "source": [
    "future = df_attack_prophet[['ds']]\n",
    "\n",
    "print(future.tail())\n",
    "print(future.head())\n",
    "\n",
    "forecast = model.predict(future)"
   ]
  },
  {
   "cell_type": "markdown",
   "metadata": {},
   "source": [
    "## Use first forecast for logistic regression"
   ]
  },
  {
   "cell_type": "code",
   "execution_count": 13,
   "metadata": {},
   "outputs": [
    {
     "name": "stdout",
     "output_type": "stream",
     "text": [
      "53328\n",
      "53328\n"
     ]
    }
   ],
   "source": [
    "X = []\n",
    "periods = len(df_attack)\n",
    "yhats = forecast[:periods]['yhat']\n",
    "for i in range(periods):\n",
    "    X.append([yhats[i], df_attack_prophet['y'][i]])\n",
    "y = [d[1] for d in data_labeled]\n",
    "\n",
    "print(len(data_labeled))\n",
    "print(len(y))"
   ]
  },
  {
   "cell_type": "markdown",
   "metadata": {},
   "source": [
    "## Logistic regression"
   ]
  },
  {
   "cell_type": "code",
   "execution_count": 14,
   "metadata": {},
   "outputs": [],
   "source": [
    "from sklearn.linear_model import LogisticRegression\n",
    "\n",
    "strat_shuffle_split = StratifiedShuffleSplit(n_splits=3, test_size=0.2, random_state=42)\n",
    "\n",
    "pipe_lr = Pipeline(steps=[('lr', LogisticRegression(penalty='l2', max_iter=500))], verbose=True)\n",
    "params = {\n",
    "    'lr__C': [0.01, 0.1, 1, 10, 100, 1000],\n",
    "}\n",
    "\n",
    "grid_lr = GridSearchCV(pipe_lr, param_grid=params, cv=strat_shuffle_split, verbose=1, n_jobs=9, scoring='precision')\n"
   ]
  },
  {
   "cell_type": "code",
   "execution_count": 15,
   "metadata": {},
   "outputs": [
    {
     "name": "stdout",
     "output_type": "stream",
     "text": [
      "Fitting 3 folds for each of 6 candidates, totalling 18 fits\n",
      "[Pipeline] ................ (step 1 of 1) Processing lr, total=   0.2s\n",
      "[Pipeline] ................ (step 1 of 1) Processing lr, total=   0.1s\n",
      "[Pipeline] ................ (step 1 of 1) Processing lr, total=   0.1s\n",
      "[Pipeline] ................ (step 1 of 1) Processing lr, total=   0.2s\n",
      "[Pipeline] ................ (step 1 of 1) Processing lr, total=   0.2s\n",
      "[Pipeline] ................ (step 1 of 1) Processing lr, total=   0.1s\n",
      "[Pipeline] ................ (step 1 of 1) Processing lr, total=   0.2s\n",
      "[Pipeline] ................ (step 1 of 1) Processing lr, total=   0.2s\n",
      "[Pipeline] ................ (step 1 of 1) Processing lr, total=   0.2s\n",
      "[Pipeline] ................ (step 1 of 1) Processing lr, total=   0.1s\n",
      "[Pipeline] ................ (step 1 of 1) Processing lr, total=   0.1s\n",
      "[Pipeline] ................ (step 1 of 1) Processing lr, total=   0.1s\n",
      "[Pipeline] ................ (step 1 of 1) Processing lr, total=   0.1s\n",
      "[Pipeline] ................ (step 1 of 1) Processing lr, total=   0.1s\n",
      "[Pipeline] ................ (step 1 of 1) Processing lr, total=   0.1s\n",
      "[Pipeline] ................ (step 1 of 1) Processing lr, total=   0.2s\n",
      "[Pipeline] ................ (step 1 of 1) Processing lr, total=   0.1s\n",
      "[Pipeline] ................ (step 1 of 1) Processing lr, total=   0.1s\n",
      "[Pipeline] ................ (step 1 of 1) Processing lr, total=   0.4s\n",
      "Fit done\n",
      "Predict done\n",
      "Classification report:\n",
      "               precision    recall  f1-score   support\n",
      "\n",
      "           0       0.99      1.00      1.00       858\n",
      "           1       1.00      1.00      1.00      9808\n",
      "\n",
      "    accuracy                           1.00     10666\n",
      "   macro avg       1.00      1.00      1.00     10666\n",
      "weighted avg       1.00      1.00      1.00     10666\n",
      "\n",
      "ROC AUC: 0.9997451060358891\n",
      "AUC: 0.9997451060358891\n",
      "Fitting 3 folds for each of 6 candidates, totalling 18 fits\n",
      "[Pipeline] ................ (step 1 of 1) Processing lr, total=   0.1s\n",
      "[Pipeline] ................ (step 1 of 1) Processing lr, total=   0.1s\n",
      "[Pipeline] ................ (step 1 of 1) Processing lr, total=   0.1s\n",
      "[Pipeline] ................ (step 1 of 1) Processing lr, total=   0.1s\n",
      "[Pipeline] ................ (step 1 of 1) Processing lr, total=   0.1s\n",
      "[Pipeline] ................ (step 1 of 1) Processing lr, total=   0.1s\n",
      "[Pipeline] ................ (step 1 of 1) Processing lr, total=   0.1s\n",
      "[Pipeline] ................ (step 1 of 1) Processing lr, total=   0.1s\n",
      "[Pipeline] ................ (step 1 of 1) Processing lr, total=   0.1s\n",
      "[Pipeline] ................ (step 1 of 1) Processing lr, total=   0.1s\n",
      "[Pipeline] ................ (step 1 of 1) Processing lr, total=   0.1s\n",
      "[Pipeline] ................ (step 1 of 1) Processing lr, total=   0.1s\n",
      "[Pipeline] ................ (step 1 of 1) Processing lr, total=   0.1s\n",
      "[Pipeline] ................ (step 1 of 1) Processing lr, total=   0.1s\n",
      "[Pipeline] ................ (step 1 of 1) Processing lr, total=   0.1s\n",
      "[Pipeline] ................ (step 1 of 1) Processing lr, total=   0.1s\n",
      "[Pipeline] ................ (step 1 of 1) Processing lr, total=   0.1s\n",
      "[Pipeline] ................ (step 1 of 1) Processing lr, total=   0.1s\n",
      "[Pipeline] ................ (step 1 of 1) Processing lr, total=   0.4s\n",
      "Fit done\n",
      "Predict done\n",
      "Classification report:\n",
      "               precision    recall  f1-score   support\n",
      "\n",
      "           0       0.99      1.00      1.00       858\n",
      "           1       1.00      1.00      1.00      9808\n",
      "\n",
      "    accuracy                           1.00     10666\n",
      "   macro avg       1.00      1.00      1.00     10666\n",
      "weighted avg       1.00      1.00      1.00     10666\n",
      "\n",
      "ROC AUC: 0.9991623554531385\n",
      "AUC: 0.9991623554531385\n",
      "Fitting 3 folds for each of 6 candidates, totalling 18 fits\n",
      "[Pipeline] ................ (step 1 of 1) Processing lr, total=   0.2s\n",
      "[Pipeline] ................ (step 1 of 1) Processing lr, total=   0.1s\n",
      "[Pipeline] ................ (step 1 of 1) Processing lr, total=   0.1s\n",
      "[Pipeline] ................ (step 1 of 1) Processing lr, total=   0.1s\n",
      "[Pipeline] ................ (step 1 of 1) Processing lr, total=   0.1s\n",
      "[Pipeline] ................ (step 1 of 1) Processing lr, total=   0.1s\n",
      "[Pipeline] ................ (step 1 of 1) Processing lr, total=   0.1s\n",
      "[Pipeline] ................ (step 1 of 1) Processing lr, total=   0.1s\n",
      "[Pipeline] ................ (step 1 of 1) Processing lr, total=   0.1s\n",
      "[Pipeline] ................ (step 1 of 1) Processing lr, total=   0.1s\n",
      "[Pipeline] ................ (step 1 of 1) Processing lr, total=   0.1s\n",
      "[Pipeline] ................ (step 1 of 1) Processing lr, total=   0.1s\n",
      "[Pipeline] ................ (step 1 of 1) Processing lr, total=   0.1s\n",
      "[Pipeline] ................ (step 1 of 1) Processing lr, total=   0.1s\n",
      "[Pipeline] ................ (step 1 of 1) Processing lr, total=   0.1s\n",
      "[Pipeline] ................ (step 1 of 1) Processing lr, total=   0.1s\n",
      "[Pipeline] ................ (step 1 of 1) Processing lr, total=   0.1s\n",
      "[Pipeline] ................ (step 1 of 1) Processing lr, total=   0.1s\n",
      "[Pipeline] ................ (step 1 of 1) Processing lr, total=   0.2s\n",
      "Fit done\n",
      "Predict done\n",
      "Classification report:\n",
      "               precision    recall  f1-score   support\n",
      "\n",
      "           0       0.99      1.00      1.00       858\n",
      "           1       1.00      1.00      1.00      9808\n",
      "\n",
      "    accuracy                           1.00     10666\n",
      "   macro avg       1.00      1.00      1.00     10666\n",
      "weighted avg       1.00      1.00      1.00     10666\n",
      "\n",
      "ROC AUC: 0.9996941272430668\n",
      "AUC: 0.9996941272430668\n",
      "Best params: {'lr__C': 0.1}\n",
      "Best score: 0.999914998512474\n",
      "Best estimator: Pipeline(steps=[('lr', LogisticRegression(C=0.1, max_iter=500))], verbose=True)\n"
     ]
    },
    {
     "data": {
      "image/png": "[encoded data removed]",
      "text/plain": [
       "<Figure size 640x480 with 1 Axes>"
      ]
     },
     "metadata": {},
     "output_type": "display_data"
    },
    {
     "data": {
      "image/png": "[encoded data removed]",
      "text/plain": [
       "<Figure size 640x480 with 1 Axes>"
      ]
     },
     "metadata": {},
     "output_type": "display_data"
    },
    {
     "data": {
      "image/png": "[encoded data removed]",
      "text/plain": [
       "<Figure size 640x480 with 1 Axes>"
      ]
     },
     "metadata": {},
     "output_type": "display_data"
    }
   ],
   "source": [
    "batch_i = 1\n",
    "\n",
    "for train_index, test_index in strat_shuffle_split.split(X, y):\n",
    "    X_train, X_test = [X[i] for i in train_index], [X[i] for i in test_index]\n",
    "    y_train, y_test = [y[i] for i in train_index], [y[i] for i in test_index]\n",
    "    \n",
    "    grid_lr.fit(X_train, y_train)\n",
    "    print('Fit done')\n",
    "    \n",
    "    y_pred = grid_lr.predict(X_test)\n",
    "    print('Predict done')\n",
    "    \n",
    "    print('Classification report:\\n', classification_report(y_test, y_pred))\n",
    "    \n",
    "    \n",
    "    # Calculate roc and auc\n",
    "    roc_auc = roc_auc_score(y_test, y_pred)\n",
    "    print('ROC AUC:', roc_auc)\n",
    "    \n",
    "    # Roc curve\n",
    "    fpr, tpr, thresholds = roc_curve(y_test, y_pred)\n",
    "    auc_score = auc(fpr, tpr)\n",
    "    \n",
    "    print('AUC:', auc_score)\n",
    "    \n",
    "    fig, ax = plt.subplots()\n",
    "    ax.plot(fpr, tpr, label='ROC curve (area = %0.2f)' % auc_score)\n",
    "    ax.plot([0, 1], [0, 1], 'k--')\n",
    "    ax.set_xlim([0.0, 1.0])\n",
    "    ax.set_ylim([0.0, 1.05])\n",
    "    ax.set_xlabel('False Positive Rate')\n",
    "    ax.set_ylabel('True Positive Rate')\n",
    "    ax.set_title('Receiver operating characteristic')\n",
    "    \n",
    "    # Save\n",
    "    # current_time = time()\n",
    "    fig.savefig(f'roc_auc_lr_ts_all_{batch_i}.png')\n",
    "    batch_i += 1\n",
    "    \n",
    "print('Best params:', grid_lr.best_params_)\n",
    "print('Best score:', grid_lr.best_score_)\n",
    "print('Best estimator:', grid_lr.best_estimator_)"
   ]
  },
  {
   "cell_type": "markdown",
   "metadata": {},
   "source": [
    "## Test on next attack"
   ]
  },
  {
   "cell_type": "code",
   "execution_count": 18,
   "metadata": {},
   "outputs": [
    {
     "name": "stdout",
     "output_type": "stream",
     "text": [
      "                             ds         y\n",
      "0 2020-11-21 18:09:06.308661938  3.546439\n",
      "1 2020-11-21 18:09:06.308661938  3.452820\n",
      "2 2020-11-21 18:09:06.721158981  0.865857\n",
      "3 2020-11-21 18:09:06.721160889  0.548954\n",
      "4 2020-11-21 18:09:07.131901979  0.865857\n"
     ]
    }
   ],
   "source": [
    "df_attack2 = pd.DataFrame(data_attack2)\n",
    "df_attack2['time'] = pd.to_datetime(df_attack2['time'], unit='s')\n",
    "df_attack2['time'] = df_attack2['time'] - pd.Timedelta(hours=4)\n",
    "df_attack2.sort_values(by='time', inplace=True)\n",
    "\n",
    "df_attack_prophet2 = df_attack2[['time','entropy']]\n",
    "df_attack_prophet2.columns = ['ds', 'y']\n",
    "\n",
    "print(df_attack_prophet2.head())"
   ]
  },
  {
   "cell_type": "code",
   "execution_count": 19,
   "metadata": {},
   "outputs": [
    {
     "name": "stdout",
     "output_type": "stream",
     "text": [
      "                                 ds\n",
      "38415 2020-11-21 19:49:54.070147038\n",
      "38416 2020-11-21 19:49:54.480348110\n",
      "38417 2020-11-21 19:49:54.480350971\n",
      "38418 2020-11-21 19:49:54.893039942\n",
      "38419 2020-11-21 19:49:54.893073082\n",
      "                             ds\n",
      "0 2020-11-21 18:09:06.308661938\n",
      "1 2020-11-21 18:09:06.308661938\n",
      "2 2020-11-21 18:09:06.721158981\n",
      "3 2020-11-21 18:09:06.721160889\n",
      "4 2020-11-21 18:09:07.131901979\n"
     ]
    }
   ],
   "source": [
    "future = df_attack_prophet2[['ds']]\n",
    "\n",
    "print(future.tail())\n",
    "print(future.head())\n",
    "\n",
    "forecast = model.predict(future)"
   ]
  },
  {
   "cell_type": "code",
   "execution_count": 20,
   "metadata": {},
   "outputs": [
    {
     "name": "stdout",
     "output_type": "stream",
     "text": [
      "38420\n",
      "38420\n",
      "38420\n",
      "ctldl.windowsupdate.com. [2.7441537973404095, 3.6897037321995474] 1\n",
      "tile-service.weather.microsoft.com. [2.743844875302531, 3.683742181830289] 1\n",
      "go.microsoft.com. [2.7434332723350736, 2.950212064914747] 1\n",
      "settings-win.data.microsoft.com. [2.7434329908970447, 3.7264741182543752] 1\n",
      "tsfe.trafficshaping.dsp.mp.microsoft.com. [2.7418693826786247, 3.7427308737169427] 1\n",
      "2207.bvtP_5cV6vUhPTEJpdbIRxVal3R0--pVeq7U. [2.7418687378276405, 4.703055907333275] 0\n",
      "2208.CHdGjQO1if0YeAiwI9LB8DwVPSTiuwKs-FfO. [2.7418678394790286, 4.8341837197791895] 0\n",
      "2209.j7tGgtRt9rt7f8z3uCe47lyoAJpirTka4nMM. [2.7418669411025878, 4.753055907333276] 0\n",
      "2210.KCeETLUtqjxBjsRCUEur64JTFjMeqyhY-1_m. [2.741866042743177, 4.803055907333276] 0\n",
      "2211.aCfj8zkUoCgd5G0xgOneaD4ci2QilKvzg00i. [2.7418651446421185, 4.646439344671015] 0\n"
     ]
    }
   ],
   "source": [
    "periods = len(data_attack2)\n",
    "yhats = np.array(forecast[:periods]['yhat'])\n",
    "\n",
    "X2 = []\n",
    "for i in range(periods):\n",
    "    X2.append([yhats[i], df_attack_prophet2['y'][i]])\n",
    "y2 = [d[1] for d in data_labeled2]\n",
    "\n",
    "print(periods)\n",
    "print(len(X2))\n",
    "print(len(y2))\n",
    "\n",
    "t = 0\n",
    "for i in range(len(X2)):\n",
    "    if t >= 10:\n",
    "        break\n",
    "    \n",
    "    if t < 5 and y2[i] == 1 and data_attack2[i]['query'].endswith('com.'):\n",
    "        print(data_attack2[i]['query'],X2[i], y2[i])\n",
    "        t += 1\n",
    "    elif t >= 5 and y2[i] == 0:\n",
    "        print(data_attack2[i]['query'],X2[i], y2[i])\n",
    "        t += 1\n",
    "    \n",
    "        "
   ]
  },
  {
   "cell_type": "code",
   "execution_count": 21,
   "metadata": {},
   "outputs": [
    {
     "name": "stdout",
     "output_type": "stream",
     "text": [
      "Classification report:\n",
      "               precision    recall  f1-score   support\n",
      "\n",
      "           0       1.00      1.00      1.00     10065\n",
      "           1       1.00      1.00      1.00     28355\n",
      "\n",
      "    accuracy                           1.00     38420\n",
      "   macro avg       1.00      1.00      1.00     38420\n",
      "weighted avg       1.00      1.00      1.00     38420\n",
      "\n",
      "13\n",
      "28355\n",
      "28342\n",
      "0.045847293246341035\n",
      "99.95415270675366\n",
      "['CIC-VIRTUAL-MACHINE._smb._tcp.local.', 'CIC-VIRTUAL-MACHINE._smb._tcp.local.', 'CIC-VIRTUAL-MACHINE._smb._tcp.local.', 'CIC-VIRTUAL-MACHINE._smb._tcp.local.', 'CIC-VIRTUAL-MACHINE._smb._tcp.local.', 'CIC-VIRTUAL-MACHINE._smb._tcp.local.', 'CIC-VIRTUAL-MACHINE._smb._tcp.local.', 'CIC-VIRTUAL-MACHINE._smb._tcp.local.', 'CIC-VIRTUAL-MACHINE._smb._tcp.local.', 'CIC-VIRTUAL-MACHINE._smb._tcp.local.']\n",
      "=======\n",
      "2\n",
      "10065\n",
      "10063\n",
      "0.01987083954297069\n",
      "99.98012916045703\n",
      "['104.x4E6L0MJdduaOiQdyK6BOwjQKO1Oas1i1D64u.', '1545.UCxUo-eyhlhn50yoXP4zf8u6zhyxyoyO1eoC.']\n"
     ]
    }
   ],
   "source": [
    "\n",
    "best_lr_model = grid_lr.best_estimator_\n",
    "y_pred = best_lr_model.predict(X2)\n",
    "print('Classification report:\\n', classification_report(y2, y_pred))\n",
    "\n",
    "# P# Print all misclassified\n",
    "falses = 0\n",
    "falert = 0\n",
    "nonalert = 0\n",
    "falerts = []\n",
    "nonalerts=[]\n",
    "ppp= 0\n",
    "# ppps = []\n",
    "qqq = 0\n",
    "# qqqs = []\n",
    "for i in range(len(y2)):\n",
    "    if y2[i] != y_pred[i]:\n",
    "        falses += 1\n",
    "        if y_pred[i] == 0:\n",
    "            falert += 1\n",
    "            falerts.append(data_labeled2[i][0]['query'])\n",
    "        else:\n",
    "            nonalert += 1\n",
    "            nonalerts.append(data_labeled2[i][0]['query'])\n",
    "        # print(f\"'{X[i]}'\", y[i], y_pred[i])\n",
    "    if y2[i] == 1 and y_pred[i] == 1:\n",
    "        ppp += 1\n",
    "    if y2[i] == 0 and y_pred[i] == 0:\n",
    "        qqq += 1\n",
    "# print(falses)\n",
    "alerts = len([d for d in y2 if d == 0])\n",
    "good = len([d for d in y2 if d == 1])\n",
    "\n",
    "print(falert)\n",
    "print(good)\n",
    "print(ppp)\n",
    "print(falert/good * 100)\n",
    "print(ppp/good * 100)\n",
    "print(falerts[:10])\n",
    "print('=======')\n",
    "print(nonalert)\n",
    "print(alerts)\n",
    "print(qqq)\n",
    "print(nonalert/alerts * 100)\n",
    "print(qqq/alerts * 100)\n",
    "print(nonalerts[:10])"
   ]
  },
  {
   "cell_type": "markdown",
   "metadata": {},
   "source": [
    "# Save the model"
   ]
  },
  {
   "cell_type": "code",
   "execution_count": 22,
   "metadata": {},
   "outputs": [],
   "source": [
    "with open('logisticregression_ts_all.pkl', 'wb') as f:\n",
    "    pickle.dump(best_lr_model, f)"
   ]
  },
  {
   "cell_type": "markdown",
   "metadata": {},
   "source": [
    "## Export data about the model"
   ]
  },
  {
   "cell_type": "code",
   "execution_count": 23,
   "metadata": {},
   "outputs": [
    {
     "name": "stdout",
     "output_type": "stream",
     "text": [
      "ROC AUC: 0.9996714093360534\n",
      "{\n",
      "    \"roc_auc\": 0.9996714093360534,\n",
      "    \"accuracy\": 0.9996095783446122,\n",
      "    \"benign\": {\n",
      "        \"precision\": 0.9999294383290996,\n",
      "        \"recall\": 0.9995415270675366,\n",
      "        \"f1\": 0.999735445069578\n",
      "    },\n",
      "    \"attack\": {\n",
      "        \"precision\": 0.9987098054783644,\n",
      "        \"recall\": 0.9998012916045703,\n",
      "        \"f1\": 0.9992552504840871\n",
      "    },\n",
      "    \"tp\": 28342,\n",
      "    \"tn\": 10063,\n",
      "    \"fp\": 2,\n",
      "    \"fn\": 13,\n",
      "    \"false_alerts\": 13,\n",
      "    \"attack_passed\": 0.01987083954297069\n",
      "}\n"
     ]
    }
   ],
   "source": [
    "roc_auc = roc_auc_score(y2, y_pred)\n",
    "print(f'ROC AUC: {roc_auc}')\n",
    "\n",
    "fpr, tpr, _ = roc_curve(y2, y_pred)\n",
    "\n",
    "roc_auc = auc(fpr, tpr)\n",
    "\n",
    "TP = 0\n",
    "TN = 0\n",
    "FP = 0\n",
    "FN = 0\n",
    "\n",
    "for i in range(len(y2)):\n",
    "    if y2[i] == y_pred[i]:\n",
    "        # True\n",
    "        if y2[i] == 1:\n",
    "            TP += 1\n",
    "        else:\n",
    "            TN += 1\n",
    "    else:\n",
    "        # False\n",
    "        if y_pred[i] == 1:\n",
    "            FP += 1\n",
    "        else:\n",
    "            FN += 1\n",
    "            \n",
    "accuracy = (TP + TN)/(TP + TN + FN + FP)\n",
    "\n",
    "precision1 = TP / (TP + FP)\n",
    "precision0 = TN / (TN + FN)\n",
    "\n",
    "recall1 = TP / (TP + FN)\n",
    "recall0 = TN / (TN + FP)\n",
    "\n",
    "f11 = 2 * (precision1 * recall1)/(precision1 + recall1)\n",
    "f10 = 2 * (precision0 * recall0)/(precision0 + recall0)\n",
    "\n",
    "all_attack = len([d for d in y2 if d == 0])\n",
    "\n",
    "lower_ts = {\n",
    "    'roc_auc': roc_auc,\n",
    "    'accuracy': accuracy,\n",
    "    'benign':{\n",
    "        'precision': precision1,\n",
    "        'recall': recall1,\n",
    "        'f1': f11\n",
    "    },\n",
    "    'attack':{\n",
    "        'precision': precision0,\n",
    "        'recall': recall0,\n",
    "        'f1': f10\n",
    "    },\n",
    "    'tp': TP,\n",
    "    'tn': TN,\n",
    "    'fp': FP,\n",
    "    'fn': FN,\n",
    "    'false_alerts': FN,\n",
    "    'attack_passed': (FP/all_attack) * 100\n",
    "}\n",
    "\n",
    "import json\n",
    "print(json.dumps(lower_ts, indent=4))\n",
    "\n",
    "with open('timeseries_all.json', 'w') as f:\n",
    "    json.dump(lower_ts, f, indent=4)"
   ]
  }
 ],
 "metadata": {
  "kernelspec": {
   "display_name": "venv",
   "language": "python",
   "name": "python3"
  },
  "language_info": {
   "codemirror_mode": {
    "name": "ipython",
    "version": 3
   },
   "file_extension": ".py",
   "mimetype": "text/x-python",
   "name": "python",
   "nbconvert_exporter": "python",
   "pygments_lexer": "ipython3",
   "version": "3.10.12"
  }
 },
 "nbformat": 4,
 "nbformat_minor": 2
}
