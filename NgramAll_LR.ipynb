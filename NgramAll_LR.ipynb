{
 "cells": [
  {
   "cell_type": "markdown",
   "metadata": {},
   "source": [
    "# Import libraries"
   ]
  },
  {
   "cell_type": "code",
   "execution_count": 1,
   "metadata": {},
   "outputs": [],
   "source": [
    "# Common\n",
    "from common import data_paths as dp\n",
    "from common import bigram_processing as bp\n",
    "from common import globals as gl\n",
    "from common import data_processing as dproc\n",
    "from common import data_loading as dl\n",
    "\n",
    "# General\n",
    "import numpy as np\n",
    "import pandas as pd\n",
    "import scapy.all as scapy\n",
    "import pickle\n",
    "from sklearn.model_selection import StratifiedShuffleSplit\n",
    "from sklearn.pipeline import Pipeline\n",
    "from sklearn.metrics import classification_report\n",
    "from sklearn.model_selection import GridSearchCV\n",
    "from sklearn.linear_model import LogisticRegression\n",
    "from matplotlib import pyplot as plt\n",
    "from sklearn.preprocessing import StandardScaler\n",
    "from sklearn.metrics import roc_auc_score, roc_curve, auc\n",
    "import re"
   ]
  },
  {
   "cell_type": "markdown",
   "metadata": {},
   "source": [
    "# Load the attack file used for training"
   ]
  },
  {
   "cell_type": "code",
   "execution_count": 2,
   "metadata": {},
   "outputs": [
    {
     "name": "stdout",
     "output_type": "stream",
     "text": [
      "['200.20.168.192.in-add.', '200.20.168.192.in-addr.arpa.', '200.20.168.192.in-add.', '200.20.168.192.in-addr.arpa.', '252.0.0.224.in-addr.a.', '252.0.0.224.in-addr.arpa.', '252.0.0.224.in-addr.arpa.', '252.0.0.224.in-addr.a.', '3.0.0.0.1.0.0.0.0.0.0.', '3.0.0.0.1.0.0.0.0.0.0.0.0.0.0.0.0.0.0.0.0.']\n",
      "53328\n"
     ]
    }
   ],
   "source": [
    "data_attack = dl.load_ngram(dp.PCAP_PATH + dp.ATTACK_LIGHT_PATH + dp.ATTACK_PATH + 'light_audio.pcap')\n",
    "print(data_attack[:10])\n",
    "print(len(data_attack))"
   ]
  },
  {
   "cell_type": "code",
   "execution_count": 3,
   "metadata": {},
   "outputs": [
    {
     "name": "stdout",
     "output_type": "stream",
     "text": [
      "['2.20.168.192.in-addr.arpa.', '2.20.168.192.in-addr..', '3.0.0.0.1.0.0.0.0.0.0.', '3.0.0.0.1.0.0.0.0.0.0.0.0.0.0.0.0.0.0.0.0.', '3.0.0.0.1.0.0.0.0.0.0.', '3.0.0.0.1.0.0.0.0.0.0.0.0.0.0.0.0.0.0.0.0.', '252.0.0.224.in-addr.a.', '252.0.0.224.in-addr.arpa.', '252.0.0.224.in-addr.a.', '252.0.0.224.in-addr.arpa.']\n",
      "38420\n"
     ]
    }
   ],
   "source": [
    "data_attack2 = dl.load_ngram(dp.PCAP_PATH + dp.ATTACK_LIGHT_PATH + dp.ATTACK_PATH + 'light_compressed.pcap')\n",
    "print(data_attack2[:10])\n",
    "print(len(data_attack2))"
   ]
  },
  {
   "cell_type": "code",
   "execution_count": 4,
   "metadata": {},
   "outputs": [
    {
     "name": "stdout",
     "output_type": "stream",
     "text": [
      "['100.20.168.192.in-add.', '100.20.168.192.in-addr.arpa.', '2.20.168.192.in-addr..', '2.20.168.192.in-addr.arpa.', '2.20.168.192.in-addr..', '2.20.168.192.in-addr.arpa.', '150.20.168.192.in-add.', '150.20.168.192.in-addr.arpa.', '150.20.168.192.in-add.', '150.20.168.192.in-addr.arpa.']\n",
      "101588\n"
     ]
    }
   ],
   "source": [
    "data_benign = dl.load_ngram(dp.PCAP_PATH + dp.ATTACK_LIGHT_PATH + dp.BENIGN_PATH + 'benign.pcap')\n",
    "print(data_benign[:10])\n",
    "print(len(data_benign))"
   ]
  },
  {
   "cell_type": "markdown",
   "metadata": {},
   "source": [
    "# Load benign domains"
   ]
  },
  {
   "cell_type": "code",
   "execution_count": 5,
   "metadata": {},
   "outputs": [
    {
     "name": "stdout",
     "output_type": "stream",
     "text": [
      "['dvg-gestalt.de', 'dxgalaxy.com', 'e2n.de', 'easycredit-bbl.de', 'eatbu.com', 'ecomedes.com', 'edels-stube.eu', 'edmboost.org', 'edmfull.com', 'einfachflirts.com']\n"
     ]
    }
   ],
   "source": [
    "benign_domains_file_3 = dp.PCAP_PATH + dp.ATTACK_LIGHT_PATH + dp.BENIGN_PATH + 'domains.txt'\n",
    "\n",
    "benign_domains = []\n",
    "\n",
    "with open(benign_domains_file_3) as f:\n",
    "    for line in f:\n",
    "        # benign_domains.append('.'.join(line.strip().split('.')[:-1]))\n",
    "        benign_domains.append(line.strip())\n",
    "print(benign_domains[:10])\n",
    "benign_domains = set(benign_domains)"
   ]
  },
  {
   "cell_type": "code",
   "execution_count": 6,
   "metadata": {},
   "outputs": [
    {
     "name": "stdout",
     "output_type": "stream",
     "text": [
      "['com', 'net', 'gov', 'org', 'mil', 'co', 'net', 'gov', 'ac', 'sch']\n",
      "['capsim', 'iqtestet', 'dsclservices', 'juris', 'pt-grl', 'malaccatimes', 'clubready', 'sansimera', 'icz', 'trend-at-tv']\n"
     ]
    }
   ],
   "source": [
    "sldstlds = pd.read_csv(dp.MISC_PATH + 'SLDs.csv', header=None, names=['TLD', 'SLD'], sep=',')['SLD']\n",
    "slds = []\n",
    "for s in sldstlds:\n",
    "    spl = s.split('.')[-2]\n",
    "    if spl != '':\n",
    "        slds.append(spl)\n",
    "print(slds[:10])\n",
    "slds = set(slds)\n",
    "\n",
    "benign_dataset_domains = []\n",
    "for bdom in benign_domains:\n",
    "    benign_dataset_domains.append(dproc.get_domain_name(bdom, slds))\n",
    "    \n",
    "print(benign_dataset_domains[:10])\n",
    "benign_dataset_domains = set(benign_dataset_domains)"
   ]
  },
  {
   "cell_type": "markdown",
   "metadata": {},
   "source": [
    "# Label data"
   ]
  },
  {
   "cell_type": "code",
   "execution_count": 7,
   "metadata": {},
   "outputs": [
    {
     "name": "stdout",
     "output_type": "stream",
     "text": [
      "150624\n",
      "4292\n"
     ]
    }
   ],
   "source": [
    "data_labeled_train = []\n",
    "\n",
    "for d in data_attack:\n",
    "    if dproc.not_exfil(d):\n",
    "        data_labeled_train.append((d, 1))\n",
    "    else:\n",
    "        data_labeled_train.append((d, -1))\n",
    "        \n",
    "for d in data_benign:\n",
    "    data_labeled_train.append((d.lower(), 1))\n",
    "\n",
    "print(len([d for d in data_labeled_train if d[1] == 1]))\n",
    "print(len([d for d in data_labeled_train if d[1] == -1]))\n",
    "\n",
    "X = [d[0] for d in data_labeled_train]\n",
    "y = [d[1] for d in data_labeled_train]\n"
   ]
  },
  {
   "cell_type": "code",
   "execution_count": 8,
   "metadata": {},
   "outputs": [
    {
     "name": "stdout",
     "output_type": "stream",
     "text": [
      "28355\n",
      "10065\n"
     ]
    }
   ],
   "source": [
    "data_labeled_test = []\n",
    "\n",
    "for d in data_attack2:\n",
    "    if dproc.not_exfil(d):\n",
    "        data_labeled_test.append((d, 1))\n",
    "    else:\n",
    "        data_labeled_test.append((d, -1))\n",
    "\n",
    "print(len([d for d in data_labeled_test if d[1] == 1]))\n",
    "print(len([d for d in data_labeled_test if d[1] == -1]))\n",
    "\n",
    "X_test_2 = [d[0] for d in data_labeled_test]\n",
    "y_test_2 = [d[1] for d in data_labeled_test]"
   ]
  },
  {
   "cell_type": "markdown",
   "metadata": {},
   "source": [
    "# Import domains"
   ]
  },
  {
   "cell_type": "code",
   "execution_count": 9,
   "metadata": {},
   "outputs": [
    {
     "name": "stdout",
     "output_type": "stream",
     "text": [
      "1000000\n",
      "['wordpress', 'shopify', 'gravatar', 'wikipedia', 'bluehost', 'hover', 'yahoo', 'youtube', 'github', 'google']\n",
      "1009766\n"
     ]
    }
   ],
   "source": [
    "domains_file = dp.DOMAINS_PATH + 'crawlson.com-top-1m.txt'\n",
    "\n",
    "domains = pd.read_csv(domains_file, header=None, names=['id', 'domain'], sep=',')\n",
    "\n",
    "domains = [dproc.get_domain_name(d, slds) for d in domains['domain'].tolist()]\n",
    "\n",
    "# benign_domains = list(benign_domains)\n",
    "print(len(domains))\n",
    "domains += benign_dataset_domains\n",
    "print(domains[:10])\n",
    "print(len(domains))\n",
    "    "
   ]
  },
  {
   "cell_type": "markdown",
   "metadata": {},
   "source": [
    "# Transform to ngrams"
   ]
  },
  {
   "cell_type": "code",
   "execution_count": 10,
   "metadata": {},
   "outputs": [
    {
     "name": "stdout",
     "output_type": "stream",
     "text": [
      "er 188988\n",
      "in 172467\n",
      "s$ 147596\n",
      "an 144060\n",
      "en 131791\n",
      "ar 121336\n",
      "on 120375\n",
      "es 120318\n",
      "re 120309\n",
      "e$ 114807\n"
     ]
    }
   ],
   "source": [
    "# Split domains into bigrams\n",
    "domains_bigrams = bp.bigram_list(domains)\n",
    "\n",
    "# Get bigrams frequency\n",
    "domains_bigrams = bp.bigram_freq(domains_bigrams)\n",
    "\n",
    "# Rank bigrams\n",
    "domains_bigrams = bp.rank_bigrams_freq(domains_bigrams)\n",
    "i = 0\n",
    "for dbkey, dbval in domains_bigrams.items():\n",
    "    print(dbkey, dbval)\n",
    "    i += 1\n",
    "    if i == 10:\n",
    "        break"
   ]
  },
  {
   "cell_type": "markdown",
   "metadata": {},
   "source": [
    "# Transform X to X_grams"
   ]
  },
  {
   "cell_type": "code",
   "execution_count": 11,
   "metadata": {},
   "outputs": [
    {
     "name": "stdout",
     "output_type": "stream",
     "text": [
      "154916\n"
     ]
    }
   ],
   "source": [
    "X_gram = []\n",
    "ae_unfound_value = 2**31 - 1\n",
    "\n",
    "for x in X:\n",
    "    \n",
    "    resx = []\n",
    "    \n",
    "    for level in x.split('.'):\n",
    "        if level == '':\n",
    "            continue\n",
    "        bx = bp.bigram_split(level)\n",
    "        for b in bx:\n",
    "            if b in domains_bigrams:\n",
    "                resx.append(domains_bigrams[b])\n",
    "            else:\n",
    "                resx.append(ae_unfound_value)\n",
    "    \n",
    "    resx = np.array(resx)\n",
    "    \n",
    "    if resx.shape[0] < gl.input_dim:\n",
    "        resx = np.pad(resx, (0, gl.input_dim - resx.shape[0]), 'constant', constant_values=(0))\n",
    "    if resx.shape[0] > gl.input_dim:\n",
    "        resx = resx[:gl.input_dim]\n",
    "        \n",
    "    \n",
    "    X_gram.append(resx)\n",
    "    \n",
    "print(len(X_gram))"
   ]
  },
  {
   "cell_type": "code",
   "execution_count": 12,
   "metadata": {},
   "outputs": [
    {
     "name": "stdout",
     "output_type": "stream",
     "text": [
      "[  2292   2680   3253   4163   2292   2680   4163   4014   1237   1137\n",
      "   5231   4014   1140    484   3672  32580 172467  15770  10320  41138\n",
      "   6060  32490      0      0      0      0      0      0      0      0\n",
      "      0      0      0      0      0      0      0      0      0      0\n",
      "      0      0      0      0      0      0      0      0      0      0\n",
      "      0      0      0      0      0      0      0      0      0      0\n",
      "      0      0      0      0]\n",
      "200.20.168.192.in-add.\n",
      "[  2292   2680   3253   4163   2292   2680   4163   4014   1237   1137\n",
      "   5231   4014   1140    484   3672  32580 172467  15770  10320  41138\n",
      "   6060  15393  53896  70861 121336   9223  42183  68938      0      0\n",
      "      0      0      0      0      0      0      0      0      0      0\n",
      "      0      0      0      0      0      0      0      0      0      0\n",
      "      0      0      0      0      0      0      0      0      0      0\n",
      "      0      0      0      0]\n",
      "200.20.168.192.in-addr.arpa.\n",
      "[  2292   2680   3253   4163   2292   2680   4163   4014   1237   1137\n",
      "   5231   4014   1140    484   3672  32580 172467  15770  10320  41138\n",
      "   6060  32490      0      0      0      0      0      0      0      0\n",
      "      0      0      0      0      0      0      0      0      0      0\n",
      "      0      0      0      0      0      0      0      0      0      0\n",
      "      0      0      0      0      0      0      0      0      0      0\n",
      "      0      0      0      0]\n",
      "200.20.168.192.in-add.\n",
      "[  2292   2680   3253   4163   2292   2680   4163   4014   1237   1137\n",
      "   5231   4014   1140    484   3672  32580 172467  15770  10320  41138\n",
      "   6060  15393  53896  70861 121336   9223  42183  68938      0      0\n",
      "      0      0      0      0      0      0      0      0      0      0\n",
      "      0      0      0      0      0      0      0      0      0      0\n",
      "      0      0      0      0      0      0      0      0      0      0\n",
      "      0      0      0      0]\n",
      "200.20.168.192.in-addr.arpa.\n"
     ]
    }
   ],
   "source": [
    "t = 0\n",
    "for i in range(4):\n",
    "    print(X_gram[i])\n",
    "    print(X[i])\n",
    "        "
   ]
  },
  {
   "cell_type": "code",
   "execution_count": 13,
   "metadata": {},
   "outputs": [
    {
     "name": "stdout",
     "output_type": "stream",
     "text": [
      "38420\n"
     ]
    }
   ],
   "source": [
    "X_gram_test = []\n",
    "\n",
    "for x in X_test_2:\n",
    "    \n",
    "    resx = []\n",
    "    \n",
    "    for level in x.split('.'):\n",
    "        if level == '':\n",
    "            continue\n",
    "        bx = bp.bigram_split(level)\n",
    "        for b in bx:\n",
    "            if b in domains_bigrams:\n",
    "                resx.append(domains_bigrams[b])\n",
    "            else:\n",
    "                resx.append(ae_unfound_value)\n",
    "    \n",
    "    resx = np.array(resx)\n",
    "    \n",
    "    if resx.shape[0] < gl.input_dim:\n",
    "        resx = np.pad(resx, (0, gl.input_dim - resx.shape[0]), 'constant', constant_values=(0))\n",
    "    if resx.shape[0] > gl.input_dim:\n",
    "        resx = resx[:gl.input_dim]\n",
    "        \n",
    "    \n",
    "    X_gram_test.append(resx)\n",
    "print(len(X_test_2))"
   ]
  },
  {
   "cell_type": "code",
   "execution_count": 14,
   "metadata": {},
   "outputs": [
    {
     "name": "stdout",
     "output_type": "stream",
     "text": [
      "[     32580     172467      46555      68163      86841 2147483647\n",
      " 2147483647 2147483647 2147483647 2147483647 2147483647 2147483647\n",
      " 2147483647 2147483647 2147483647 2147483647 2147483647 2147483647\n",
      " 2147483647 2147483647 2147483647 2147483647 2147483647 2147483647\n",
      " 2147483647 2147483647 2147483647 2147483647 2147483647 2147483647\n",
      " 2147483647 2147483647 2147483647 2147483647      79609      37498\n",
      "      63820      62150        204        320       4452          0\n",
      "          0          0          0          0          0          0\n",
      "          0          0          0          0          0          0\n",
      "          0          0          0          0          0          0\n",
      "          0          0          0          0]\n",
      "init.INXWIZKWGIXHIYLSFZTXU7BTGQZQ.base64..\n",
      "[  4014    975    783   4163   2292   2680   4163   4014   1237   1137\n",
      "   5231   4014   1140    484   3672  32580 172467  15770  10320  41138\n",
      "   6060  32490      0      0      0      0      0      0      0      0\n",
      "      0      0      0      0      0      0      0      0      0      0\n",
      "      0      0      0      0      0      0      0      0      0      0\n",
      "      0      0      0      0      0      0      0      0      0      0\n",
      "      0      0      0      0]\n",
      "150.20.168.192.in-add.\n",
      "[      4014       4561 2147483647 2147483647 2147483647        113\n",
      " 2147483647 2147483647 2147483647 2147483647 2147483647 2147483647\n",
      " 2147483647        482        120        100        101       3105\n",
      " 2147483647 2147483647        195 2147483647 2147483647 2147483647\n",
      "        430        484 2147483647 2147483647 2147483647      11011\n",
      " 2147483647 2147483647 2147483647 2147483647 2147483647 2147483647\n",
      " 2147483647 2147483647 2147483647       2793 2147483647 2147483647\n",
      "          0          0          0          0          0          0\n",
      "          0          0          0          0          0          0\n",
      "          0          0          0          0          0          0\n",
      "          0          0          0          0]\n",
      "1.DS3wKMK4IF73n0ejEv2TO792IGoiUtWlWMuYhdW.\n",
      "[2476 3441 1234 4163 1234 4163 1234 4163 4014 4561 1234 4163 1234 4163\n",
      " 1234 4163 1234 4163 1234 4163 1234 4163    0    0    0    0    0    0\n",
      "    0    0    0    0    0    0    0    0    0    0    0    0    0    0\n",
      "    0    0    0    0    0    0    0    0    0    0    0    0    0    0\n",
      "    0    0    0    0    0    0    0    0]\n",
      "3.0.0.0.1.0.0.0.0.0.0.\n"
     ]
    }
   ],
   "source": [
    "t = 0\n",
    "for i in range(len(X_gram_test)):\n",
    "    if t >=4:\n",
    "        break\n",
    "    \n",
    "    if y_test_2[i] == -1 and t % 2 == 0:\n",
    "        print(X_gram_test[i])\n",
    "        print(X_test_2[i])\n",
    "        t += 1\n",
    "    if y_test_2[i] == 1 and t % 2 == 1:\n",
    "        print(X_gram_test[i])\n",
    "        print(X_test_2[i])\n",
    "        \n",
    "        t += 1"
   ]
  },
  {
   "cell_type": "markdown",
   "metadata": {},
   "source": [
    "# Model"
   ]
  },
  {
   "cell_type": "markdown",
   "metadata": {},
   "source": [
    "## Split, pipeline, grid search"
   ]
  },
  {
   "cell_type": "code",
   "execution_count": 23,
   "metadata": {},
   "outputs": [],
   "source": [
    "strat_shuffle_split = StratifiedShuffleSplit(n_splits=3, test_size=0.2, random_state=42)\n",
    "\n",
    "ngram_lr = Pipeline(steps=[('scaler', StandardScaler()), ('logreg', LogisticRegression(penalty='l2', max_iter=500))], verbose=True)\n",
    "params = {\n",
    "    'logreg__C': [0.1, 1, 10 , 100, 1000, 10000]\n",
    "}\n",
    "\n",
    "grid_lr = GridSearchCV(ngram_lr, param_grid=params, cv=strat_shuffle_split, verbose=1, n_jobs=9, scoring='precision')\n"
   ]
  },
  {
   "cell_type": "code",
   "execution_count": 24,
   "metadata": {},
   "outputs": [
    {
     "name": "stdout",
     "output_type": "stream",
     "text": [
      "Before downsampling: 150624\n",
      "Before downsampling: 4292\n",
      "After downsampling: 85840\n",
      "After downsampling: 4292\n"
     ]
    }
   ],
   "source": [
    "# Use downsampling\n",
    "X_gram = np.array(X_gram)\n",
    "y = np.array(y)\n",
    "\n",
    "# Downsample 1 from y\n",
    "print('Before downsampling:', len([d for d in y if d == 1]))\n",
    "print('Before downsampling:', len([d for d in y if d == -1]))\n",
    "\n",
    "downsampled_indices = np.random.choice(np.where(y == 1)[0], len([d for d in y if d == -1]) * 20, replace=False)\n",
    "downsampled_indices = np.concatenate((downsampled_indices, np.where(y == -1)[0]))\n",
    "\n",
    "X_gram_downsampled = X_gram[downsampled_indices]\n",
    "y_downsampled = y[downsampled_indices]\n",
    "\n",
    "print('After downsampling:', len([d for d in y_downsampled if d == 1]))\n",
    "print('After downsampling:', len([d for d in y_downsampled if d == -1]))\n"
   ]
  },
  {
   "cell_type": "markdown",
   "metadata": {},
   "source": [
    "## Train"
   ]
  },
  {
   "cell_type": "code",
   "execution_count": 25,
   "metadata": {},
   "outputs": [
    {
     "name": "stdout",
     "output_type": "stream",
     "text": [
      "Fitting 3 folds for each of 6 candidates, totalling 18 fits\n",
      "[Pipeline] ............ (step 1 of 2) Processing scaler, total=   0.3s\n",
      "[Pipeline] ............ (step 2 of 2) Processing logreg, total=   0.2s\n",
      "[Pipeline] ............ (step 1 of 2) Processing scaler, total=   0.4s\n",
      "[Pipeline] ............ (step 2 of 2) Processing logreg, total=   0.2s\n",
      "[Pipeline] ............ (step 1 of 2) Processing scaler, total=   0.3s\n",
      "[Pipeline] ............ (step 2 of 2) Processing logreg, total=   0.2s\n",
      "[Pipeline] ............ (step 1 of 2) Processing scaler, total=   0.3s\n",
      "[Pipeline] ............ (step 2 of 2) Processing logreg, total=   0.2s\n",
      "[Pipeline] ............ (step 1 of 2) Processing scaler, total=   0.4s\n",
      "[Pipeline] ............ (step 2 of 2) Processing logreg, total=   0.2s\n",
      "[Pipeline] ............ (step 1 of 2) Processing scaler, total=   0.4s\n",
      "[Pipeline] ............ (step 2 of 2) Processing logreg, total=   0.2s\n",
      "[Pipeline] ............ (step 1 of 2) Processing scaler, total=   0.3s\n",
      "[Pipeline] ............ (step 2 of 2) Processing logreg, total=   0.2s\n",
      "[Pipeline] ............ (step 1 of 2) Processing scaler, total=   0.3s\n",
      "[Pipeline] ............ (step 2 of 2) Processing logreg, total=   0.1s\n",
      "[Pipeline] ............ (step 1 of 2) Processing scaler, total=   0.3s\n",
      "[Pipeline] ............ (step 2 of 2) Processing logreg, total=   0.1s\n",
      "[Pipeline] ............ (step 1 of 2) Processing scaler, total=   0.5s\n",
      "[Pipeline] ............ (step 2 of 2) Processing logreg, total=   0.2s\n",
      "[Pipeline] ............ (step 1 of 2) Processing scaler, total=   0.5s\n",
      "[Pipeline] ............ (step 2 of 2) Processing logreg, total=   0.2s\n",
      "[Pipeline] ............ (step 1 of 2) Processing scaler, total=   0.3s\n",
      "[Pipeline] ............ (step 2 of 2) Processing logreg, total=   0.2s\n",
      "[Pipeline] ............ (step 1 of 2) Processing scaler, total=   0.3s\n",
      "[Pipeline] ............ (step 2 of 2) Processing logreg, total=   0.2s\n",
      "[Pipeline] ............ (step 1 of 2) Processing scaler, total=   0.3s\n",
      "[Pipeline] ............ (step 2 of 2) Processing logreg, total=   0.1s\n",
      "[Pipeline] ............ (step 1 of 2) Processing scaler, total=   0.3s\n",
      "[Pipeline] ............ (step 2 of 2) Processing logreg, total=   0.2s\n",
      "[Pipeline] ............ (step 1 of 2) Processing scaler, total=   0.3s\n",
      "[Pipeline] ............ (step 2 of 2) Processing logreg, total=   0.2s\n",
      "[Pipeline] ............ (step 1 of 2) Processing scaler, total=   0.4s\n",
      "[Pipeline] ............ (step 2 of 2) Processing logreg, total=   0.2s\n",
      "[Pipeline] ............ (step 1 of 2) Processing scaler, total=   0.3s\n",
      "[Pipeline] ............ (step 2 of 2) Processing logreg, total=   0.1s\n",
      "[Pipeline] ............ (step 1 of 2) Processing scaler, total=   0.5s\n",
      "[Pipeline] ............ (step 2 of 2) Processing logreg, total=   0.6s\n",
      "Fit done\n",
      "Predict done\n",
      "Classification report:\n",
      "               precision    recall  f1-score   support\n",
      "\n",
      "          -1       1.00      1.00      1.00       858\n",
      "           1       1.00      1.00      1.00     17169\n",
      "\n",
      "    accuracy                           1.00     18027\n",
      "   macro avg       1.00      1.00      1.00     18027\n",
      "weighted avg       1.00      1.00      1.00     18027\n",
      "\n",
      "ROC AUC: 0.9994172494172494\n",
      "AUC: 0.9994172494172494\n",
      "Fitting 3 folds for each of 6 candidates, totalling 18 fits\n",
      "[Pipeline] ............ (step 1 of 2) Processing scaler, total=   0.3s\n",
      "[Pipeline] ............ (step 2 of 2) Processing logreg, total=   0.2s\n",
      "[Pipeline] ............ (step 1 of 2) Processing scaler, total=   0.3s\n",
      "[Pipeline] ............ (step 2 of 2) Processing logreg, total=   0.2s\n",
      "[Pipeline] ............ (step 1 of 2) Processing scaler, total=   0.3s\n",
      "[Pipeline] ............ (step 2 of 2) Processing logreg, total=   0.2s\n",
      "[Pipeline] ............ (step 1 of 2) Processing scaler, total=   0.3s\n",
      "[Pipeline] ............ (step 2 of 2) Processing logreg, total=   0.2s\n",
      "[Pipeline] ............ (step 1 of 2) Processing scaler, total=   0.3s\n",
      "[Pipeline] ............ (step 2 of 2) Processing logreg, total=   0.2s\n",
      "[Pipeline] ............ (step 1 of 2) Processing scaler, total=   0.3s\n",
      "[Pipeline] ............ (step 2 of 2) Processing logreg, total=   0.2s\n",
      "[Pipeline] ............ (step 1 of 2) Processing scaler, total=   0.3s\n",
      "[Pipeline] ............ (step 2 of 2) Processing logreg, total=   0.2s\n",
      "[Pipeline] ............ (step 1 of 2) Processing scaler, total=   0.3s\n",
      "[Pipeline] ............ (step 2 of 2) Processing logreg, total=   0.1s\n",
      "[Pipeline] ............ (step 1 of 2) Processing scaler, total=   0.3s\n",
      "[Pipeline] ............ (step 2 of 2) Processing logreg, total=   0.2s\n",
      "[Pipeline] ............ (step 1 of 2) Processing scaler, total=   0.3s\n",
      "[Pipeline] ............ (step 2 of 2) Processing logreg, total=   0.2s\n",
      "[Pipeline] ............ (step 1 of 2) Processing scaler, total=   0.3s\n",
      "[Pipeline] ............ (step 2 of 2) Processing logreg, total=   0.1s\n",
      "[Pipeline] ............ (step 1 of 2) Processing scaler, total=   0.3s\n",
      "[Pipeline] ............ (step 2 of 2) Processing logreg, total=   0.1s\n",
      "[Pipeline] ............ (step 1 of 2) Processing scaler, total=   0.3s\n",
      "[Pipeline] ............ (step 2 of 2) Processing logreg, total=   0.1s\n",
      "[Pipeline] ............ (step 1 of 2) Processing scaler, total=   0.3s\n",
      "[Pipeline] ............ (step 2 of 2) Processing logreg, total=   0.1s\n",
      "[Pipeline] ............ (step 1 of 2) Processing scaler, total=   0.3s\n",
      "[Pipeline] ............ (step 2 of 2) Processing logreg, total=   0.2s\n",
      "[Pipeline] ............ (step 1 of 2) Processing scaler, total=   0.3s\n",
      "[Pipeline] ............ (step 2 of 2) Processing logreg, total=   0.1s\n",
      "[Pipeline] ............ (step 1 of 2) Processing scaler, total=   0.3s\n",
      "[Pipeline] ............ (step 2 of 2) Processing logreg, total=   0.1s\n",
      "[Pipeline] ............ (step 1 of 2) Processing scaler, total=   0.3s\n",
      "[Pipeline] ............ (step 2 of 2) Processing logreg, total=   0.1s\n",
      "[Pipeline] ............ (step 1 of 2) Processing scaler, total=   0.2s\n",
      "[Pipeline] ............ (step 2 of 2) Processing logreg, total=   0.5s\n",
      "Fit done\n",
      "Predict done\n",
      "Classification report:\n",
      "               precision    recall  f1-score   support\n",
      "\n",
      "          -1       1.00      1.00      1.00       858\n",
      "           1       1.00      1.00      1.00     17169\n",
      "\n",
      "    accuracy                           1.00     18027\n",
      "   macro avg       1.00      1.00      1.00     18027\n",
      "weighted avg       1.00      1.00      1.00     18027\n",
      "\n",
      "ROC AUC: 1.0\n",
      "AUC: 1.0\n",
      "Fitting 3 folds for each of 6 candidates, totalling 18 fits\n",
      "[Pipeline] ............ (step 1 of 2) Processing scaler, total=   0.4s\n",
      "[Pipeline] ............ (step 2 of 2) Processing logreg, total=   0.2s\n",
      "[Pipeline] ............ (step 1 of 2) Processing scaler, total=   0.4s\n",
      "[Pipeline] ............ (step 2 of 2) Processing logreg, total=   0.2s\n",
      "[Pipeline] ............ (step 1 of 2) Processing scaler, total=   0.4s\n",
      "[Pipeline] ............ (step 2 of 2) Processing logreg, total=   0.2s\n",
      "[Pipeline] ............ (step 1 of 2) Processing scaler, total=   0.3s\n",
      "[Pipeline] ............ (step 2 of 2) Processing logreg, total=   0.1s\n",
      "[Pipeline] ............ (step 1 of 2) Processing scaler, total=   0.4s\n",
      "[Pipeline] ............ (step 2 of 2) Processing logreg, total=   0.2s\n",
      "[Pipeline] ............ (step 1 of 2) Processing scaler, total=   0.4s\n",
      "[Pipeline] ............ (step 2 of 2) Processing logreg, total=   0.2s\n",
      "[Pipeline] ............ (step 1 of 2) Processing scaler, total=   0.4s\n",
      "[Pipeline] ............ (step 2 of 2) Processing logreg, total=   0.2s\n",
      "[Pipeline] ............ (step 1 of 2) Processing scaler, total=   0.3s\n",
      "[Pipeline] ............ (step 2 of 2) Processing logreg, total=   0.2s\n",
      "[Pipeline] ............ (step 1 of 2) Processing scaler, total=   0.4s\n",
      "[Pipeline] ............ (step 2 of 2) Processing logreg, total=   0.1s\n",
      "[Pipeline] ............ (step 1 of 2) Processing scaler, total=   0.3s\n",
      "[Pipeline] ............ (step 2 of 2) Processing logreg, total=   0.1s\n",
      "[Pipeline] ............ (step 1 of 2) Processing scaler, total=   0.2s\n",
      "[Pipeline] ............ (step 2 of 2) Processing logreg, total=   0.1s\n",
      "[Pipeline] ............ (step 1 of 2) Processing scaler, total=   0.2s\n",
      "[Pipeline] ............ (step 2 of 2) Processing logreg, total=   0.1s\n",
      "[Pipeline] ............ (step 1 of 2) Processing scaler, total=   0.2s\n",
      "[Pipeline] ............ (step 2 of 2) Processing logreg, total=   0.1s\n",
      "[Pipeline] ............ (step 1 of 2) Processing scaler, total=   0.2s\n",
      "[Pipeline] ............ (step 2 of 2) Processing logreg, total=   0.1s\n",
      "[Pipeline] ............ (step 1 of 2) Processing scaler, total=   0.2s\n",
      "[Pipeline] ............ (step 2 of 2) Processing logreg, total=   0.1s\n",
      "[Pipeline] ............ (step 1 of 2) Processing scaler, total=   0.3s\n",
      "[Pipeline] ............ (step 2 of 2) Processing logreg, total=   0.1s\n",
      "[Pipeline] ............ (step 1 of 2) Processing scaler, total=   0.2s\n",
      "[Pipeline] ............ (step 2 of 2) Processing logreg, total=   0.1s\n",
      "[Pipeline] ............ (step 1 of 2) Processing scaler, total=   0.3s\n",
      "[Pipeline] ............ (step 2 of 2) Processing logreg, total=   0.1s\n",
      "[Pipeline] ............ (step 1 of 2) Processing scaler, total=   0.4s\n",
      "[Pipeline] ............ (step 2 of 2) Processing logreg, total=   0.5s\n",
      "Fit done\n",
      "Predict done\n",
      "Classification report:\n",
      "               precision    recall  f1-score   support\n",
      "\n",
      "          -1       1.00      1.00      1.00       858\n",
      "           1       1.00      1.00      1.00     17169\n",
      "\n",
      "    accuracy                           1.00     18027\n",
      "   macro avg       1.00      1.00      1.00     18027\n",
      "weighted avg       1.00      1.00      1.00     18027\n",
      "\n",
      "ROC AUC: 1.0\n",
      "AUC: 1.0\n",
      "Best params: {'logreg__C': 0.1}\n",
      "Best score: 1.0\n",
      "Best estimator: Pipeline(steps=[('scaler', StandardScaler()),\n",
      "                ('logreg', LogisticRegression(C=0.1, max_iter=500))],\n",
      "         verbose=True)\n"
     ]
    },
    {
     "data": {
      "image/png": "[encoded data removed]",
      "text/plain": [
       "<Figure size 640x480 with 1 Axes>"
      ]
     },
     "metadata": {},
     "output_type": "display_data"
    },
    {
     "data": {
      "image/png": "[encoded data removed]",
      "text/plain": [
       "<Figure size 640x480 with 1 Axes>"
      ]
     },
     "metadata": {},
     "output_type": "display_data"
    },
    {
     "data": {
      "image/png": "[encoded data removed]",
      "text/plain": [
       "<Figure size 640x480 with 1 Axes>"
      ]
     },
     "metadata": {},
     "output_type": "display_data"
    }
   ],
   "source": [
    "batch_i = 1\n",
    "\n",
    "for train_index, test_index in strat_shuffle_split.split(X_gram_downsampled, y_downsampled):\n",
    "    X_train, X_test = [X_gram_downsampled[i] for i in train_index], [X_gram_downsampled[i] for i in test_index]\n",
    "    y_train, y_test = [y_downsampled[i] for i in train_index], [y_downsampled[i] for i in test_index]\n",
    "    \n",
    "    \n",
    "    grid_lr.fit(X_train, y_train)\n",
    "    print('Fit done')\n",
    "    \n",
    "    y_pred = grid_lr.predict(X_test)\n",
    "    print('Predict done')\n",
    "    \n",
    "    print('Classification report:\\n', classification_report(y_test, y_pred))\n",
    "    \n",
    "    \n",
    "    # Calculate roc and auc\n",
    "    roc_auc = roc_auc_score(y_test, y_pred)\n",
    "    print('ROC AUC:', roc_auc)\n",
    "    \n",
    "    # Roc curve\n",
    "    fpr, tpr, thresholds = roc_curve(y_test, y_pred)\n",
    "    auc_score = auc(fpr, tpr)\n",
    "    \n",
    "    print('AUC:', auc_score)\n",
    "    \n",
    "    fig, ax = plt.subplots()\n",
    "    ax.plot(fpr, tpr, label='ROC curve (area = %0.2f)' % auc_score)\n",
    "    ax.plot([0, 1], [0, 1], 'k--')\n",
    "    ax.set_xlim([0.0, 1.0])\n",
    "    ax.set_ylim([0.0, 1.05])\n",
    "    ax.set_xlabel('False Positive Rate')\n",
    "    ax.set_ylabel('True Positive Rate')\n",
    "    ax.set_title('Receiver operating characteristic')\n",
    "    \n",
    "    # Save\n",
    "    # current_time = time()\n",
    "    fig.savefig(f'roc_auc_lr_all_{batch_i}.png')\n",
    "    batch_i += 1\n",
    "    \n",
    "print('Best params:', grid_lr.best_params_)\n",
    "print('Best score:', grid_lr.best_score_)\n",
    "print('Best estimator:', grid_lr.best_estimator_)"
   ]
  },
  {
   "cell_type": "markdown",
   "metadata": {},
   "source": [
    "## Test"
   ]
  },
  {
   "cell_type": "code",
   "execution_count": 26,
   "metadata": {},
   "outputs": [
    {
     "name": "stdout",
     "output_type": "stream",
     "text": [
      "Classification report:\n",
      "               precision    recall  f1-score   support\n",
      "\n",
      "          -1       1.00      1.00      1.00     10065\n",
      "           1       1.00      1.00      1.00     28355\n",
      "\n",
      "    accuracy                           1.00     38420\n",
      "   macro avg       1.00      1.00      1.00     38420\n",
      "weighted avg       1.00      1.00      1.00     38420\n",
      "\n",
      "0\n",
      "28355\n",
      "0.0\n",
      "100.0\n",
      "[]\n",
      "=======\n",
      "6\n",
      "10065\n",
      "0.05961251862891207\n",
      "99.94038748137109\n",
      "['3.Agb-v9pK8f2fN1027cnOJOpVF1fh29K9ils59-d.', '5.-T_qstAFnBNKTu-8knYNanpo8qvmtPt2qyf56yz.', '456.t0cko7eryjbsBOvVjX9DyKj2qvs5l80j7dj54.', '2697.Yctn3iTEbs5ZeJ21LryL4revvw3rntsrc44a.', '3802.oq4GkykyBz3mLp6MJq49qo4o8r4-wngk4G90.', '3854.gUJKWgiob903kQfiG1s3b0-2uc4Twc0c8qeh.']\n"
     ]
    }
   ],
   "source": [
    "best_lr_model = grid_lr.best_estimator_\n",
    "y_pred = best_lr_model.predict(X_gram_test)\n",
    "\n",
    "print('Classification report:\\n', classification_report(y_test_2, y_pred))\n",
    "\n",
    "# P# Print all misclassified\n",
    "falses = 0\n",
    "falert = 0\n",
    "nonalert = 0\n",
    "falerts = []\n",
    "nonalerts=[]\n",
    "ppp= []\n",
    "qqq = []\n",
    "for i in range(len(y_test_2)):\n",
    "    if y_test_2[i] != y_pred[i]:\n",
    "        falses += 1\n",
    "        if y_pred[i] == -1:\n",
    "            falert += 1\n",
    "            falerts.append(X_test_2[i])\n",
    "        else:\n",
    "            nonalert += 1\n",
    "            nonalerts.append(X_test_2[i])\n",
    "        # print(f\"'{X[i]}'\", y[i], y_pred[i])\n",
    "    if y_test_2[i] == 1 and y_pred[i] == 1:\n",
    "        ppp.append(X[i])\n",
    "    if y_test_2[i] == -1 and y_pred[i] == -1:\n",
    "        qqq.append(X[i])\n",
    "# print(falses)\n",
    "alerts = len([d for d in y_test_2 if d == -1])\n",
    "good = len([d for d in y_test_2 if d == 1])\n",
    "\n",
    "print(falert)\n",
    "print(good)\n",
    "print(falert/good * 100)\n",
    "print(len(ppp) / good * 100)\n",
    "print(falerts[:10])\n",
    "print('=======')\n",
    "print(nonalert)\n",
    "print(alerts)\n",
    "print(nonalert/alerts * 100)\n",
    "print(len(qqq) / alerts * 100)\n",
    "print(nonalerts[:10])"
   ]
  },
  {
   "cell_type": "markdown",
   "metadata": {},
   "source": [
    "## Save the model"
   ]
  },
  {
   "cell_type": "code",
   "execution_count": 27,
   "metadata": {},
   "outputs": [],
   "source": [
    "with open('logisticregression_all.pkl', 'wb') as f:\n",
    "    pickle.dump(best_lr_model, f)"
   ]
  },
  {
   "cell_type": "markdown",
   "metadata": {},
   "source": [
    "## Export data about the model"
   ]
  },
  {
   "cell_type": "code",
   "execution_count": 28,
   "metadata": {},
   "outputs": [
    {
     "name": "stdout",
     "output_type": "stream",
     "text": [
      "ROC AUC: 0.9997019374068554\n",
      "{\n",
      "    \"roc_auc\": 0.9997019374068554,\n",
      "    \"accuracy\": 0.9998438313378448,\n",
      "    \"benign\": {\n",
      "        \"precision\": 0.999788441874405,\n",
      "        \"recall\": 1.0,\n",
      "        \"f1\": 0.9998942097468086\n",
      "    },\n",
      "    \"attack\": {\n",
      "        \"precision\": 1.0,\n",
      "        \"recall\": 0.9994038748137108,\n",
      "        \"f1\": 0.9997018485390579\n",
      "    },\n",
      "    \"tp\": 28355,\n",
      "    \"tn\": 10059,\n",
      "    \"fp\": 6,\n",
      "    \"fn\": 0,\n",
      "    \"false_alerts\": 0,\n",
      "    \"attack_passed\": 0.05961251862891207\n",
      "}\n"
     ]
    }
   ],
   "source": [
    "roc_auc = roc_auc_score(y_test_2, y_pred)\n",
    "print(f'ROC AUC: {roc_auc}')\n",
    "\n",
    "fpr, tpr, _ = roc_curve(y_test_2, y_pred)\n",
    "\n",
    "roc_auc = auc(fpr, tpr)\n",
    "\n",
    "TP = 0\n",
    "TN = 0\n",
    "FP = 0\n",
    "FN = 0\n",
    "\n",
    "for i in range(len(y_test_2)):\n",
    "    if y_test_2[i] == y_pred[i]:\n",
    "        # True\n",
    "        if y_test_2[i] == 1:\n",
    "            TP += 1\n",
    "        else:\n",
    "            TN += 1\n",
    "    else:\n",
    "        # False\n",
    "        if y_pred[i] == 1:\n",
    "            FP += 1\n",
    "        else:\n",
    "            FN += 1\n",
    "            \n",
    "accuracy = (TP + TN)/(TP + TN + FN + FP)\n",
    "\n",
    "precision1 = TP / (TP + FP)\n",
    "precision0 = TN / (TN + FN)\n",
    "\n",
    "recall1 = TP / (TP + FN)\n",
    "recall0 = TN / (TN + FP)\n",
    "\n",
    "f11 = 2 * (precision1 * recall1)/(precision1 + recall1)\n",
    "f10 = 2 * (precision0 * recall0)/(precision0 + recall0)\n",
    "\n",
    "all_attack = len([d for d in y_test_2 if d == -1])\n",
    "\n",
    "lower_ae = {\n",
    "    'roc_auc': roc_auc,\n",
    "    'accuracy': accuracy,\n",
    "    'benign':{\n",
    "        'precision': precision1,\n",
    "        'recall': recall1,\n",
    "        'f1': f11\n",
    "    },\n",
    "    'attack':{\n",
    "        'precision': precision0,\n",
    "        'recall': recall0,\n",
    "        'f1': f10\n",
    "    },\n",
    "    'tp': TP,\n",
    "    'tn': TN,\n",
    "    'fp': FP,\n",
    "    'fn': FN,\n",
    "    'false_alerts': FN,\n",
    "    'attack_passed': (FP/all_attack) * 100\n",
    "}\n",
    "\n",
    "import json\n",
    "print(json.dumps(lower_ae, indent=4))\n",
    "\n",
    "with open('logisticregression_all.json', 'w') as f:\n",
    "    json.dump(lower_ae, f, indent=4)"
   ]
  }
 ],
 "metadata": {
  "kernelspec": {
   "display_name": "venv",
   "language": "python",
   "name": "python3"
  },
  "language_info": {
   "codemirror_mode": {
    "name": "ipython",
    "version": 3
   },
   "file_extension": ".py",
   "mimetype": "text/x-python",
   "name": "python",
   "nbconvert_exporter": "python",
   "pygments_lexer": "ipython3",
   "version": "3.10.12"
  }
 },
 "nbformat": 4,
 "nbformat_minor": 2
}
