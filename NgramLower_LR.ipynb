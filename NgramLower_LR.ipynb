{
 "cells": [
  {
   "cell_type": "markdown",
   "metadata": {},
   "source": [
    "# Import libraries"
   ]
  },
  {
   "cell_type": "code",
   "execution_count": 1,
   "metadata": {},
   "outputs": [],
   "source": [
    "# Common\n",
    "from common import data_paths as dp\n",
    "from common import bigram_processing as bp\n",
    "from common import globals as gl\n",
    "from common import data_processing as dproc\n",
    "from common import data_loading as dl\n",
    "\n",
    "# General\n",
    "import numpy as np\n",
    "import pandas as pd\n",
    "import scapy.all as scapy\n",
    "import pickle\n",
    "import torch\n",
    "from sklearn.model_selection import StratifiedShuffleSplit\n",
    "from sklearn.pipeline import Pipeline\n",
    "from sklearn.metrics import classification_report\n",
    "from sklearn.model_selection import GridSearchCV\n",
    "from sklearn.linear_model import LogisticRegression\n",
    "from sklearn.preprocessing import StandardScaler\n",
    "from matplotlib import pyplot as plt\n",
    "from time import time\n",
    "from sklearn.metrics import roc_auc_score, roc_curve, auc\n",
    "import re"
   ]
  },
  {
   "cell_type": "markdown",
   "metadata": {},
   "source": [
    "# Load the attack file used for training"
   ]
  },
  {
   "cell_type": "code",
   "execution_count": 2,
   "metadata": {},
   "outputs": [
    {
     "name": "stdout",
     "output_type": "stream",
     "text": [
      "['200.20.168.192.in-add.', '200.20.168.192.in-addr.arpa.', '200.20.168.192.in-add.', '200.20.168.192.in-addr.arpa.', '252.0.0.224.in-addr.a.', '252.0.0.224.in-addr.arpa.', '252.0.0.224.in-addr.arpa.', '252.0.0.224.in-addr.a.', '3.0.0.0.1.0.0.0.0.0.0.', '3.0.0.0.1.0.0.0.0.0.0.0.0.0.0.0.0.0.0.0.0.']\n",
      "53328\n"
     ]
    }
   ],
   "source": [
    "data_attack = dl.load_ngram(dp.PCAP_PATH + dp.ATTACK_LIGHT_PATH + dp.ATTACK_PATH + 'light_audio.pcap')\n",
    "print(data_attack[:10])\n",
    "print(len(data_attack))"
   ]
  },
  {
   "cell_type": "code",
   "execution_count": 3,
   "metadata": {},
   "outputs": [
    {
     "name": "stdout",
     "output_type": "stream",
     "text": [
      "['2.20.168.192.in-addr.arpa.', '2.20.168.192.in-addr..', '3.0.0.0.1.0.0.0.0.0.0.', '3.0.0.0.1.0.0.0.0.0.0.0.0.0.0.0.0.0.0.0.0.', '3.0.0.0.1.0.0.0.0.0.0.', '3.0.0.0.1.0.0.0.0.0.0.0.0.0.0.0.0.0.0.0.0.', '252.0.0.224.in-addr.a.', '252.0.0.224.in-addr.arpa.', '252.0.0.224.in-addr.a.', '252.0.0.224.in-addr.arpa.']\n",
      "38420\n"
     ]
    }
   ],
   "source": [
    "data_attack2 = dl.load_ngram(dp.PCAP_PATH + dp.ATTACK_LIGHT_PATH + dp.ATTACK_PATH + 'light_compressed.pcap')\n",
    "print(data_attack2[:10])\n",
    "print(len(data_attack2))"
   ]
  },
  {
   "cell_type": "code",
   "execution_count": 4,
   "metadata": {},
   "outputs": [
    {
     "name": "stdout",
     "output_type": "stream",
     "text": [
      "['100.20.168.192.in-add.', '100.20.168.192.in-addr.arpa.', '2.20.168.192.in-addr..', '2.20.168.192.in-addr.arpa.', '2.20.168.192.in-addr..', '2.20.168.192.in-addr.arpa.', '150.20.168.192.in-add.', '150.20.168.192.in-addr.arpa.', '150.20.168.192.in-add.', '150.20.168.192.in-addr.arpa.']\n",
      "101588\n"
     ]
    }
   ],
   "source": [
    "data_benign = dl.load_ngram(dp.PCAP_PATH + dp.ATTACK_LIGHT_PATH + dp.BENIGN_PATH + 'benign.pcap')\n",
    "print(data_benign[:10])\n",
    "print(len(data_benign))"
   ]
  },
  {
   "cell_type": "markdown",
   "metadata": {},
   "source": [
    "# Load benign domains"
   ]
  },
  {
   "cell_type": "code",
   "execution_count": 5,
   "metadata": {},
   "outputs": [
    {
     "name": "stdout",
     "output_type": "stream",
     "text": [
      "['dvg-gestalt.de', 'dxgalaxy.com', 'e2n.de', 'easycredit-bbl.de', 'eatbu.com', 'ecomedes.com', 'edels-stube.eu', 'edmboost.org', 'edmfull.com', 'einfachflirts.com']\n"
     ]
    }
   ],
   "source": [
    "benign_domains_file_3 = dp.PCAP_PATH + dp.ATTACK_LIGHT_PATH + dp.BENIGN_PATH + 'domains.txt'\n",
    "\n",
    "benign_domains = []\n",
    "\n",
    "with open(benign_domains_file_3) as f:\n",
    "    for line in f:\n",
    "        # benign_domains.append('.'.join(line.strip().split('.')[:-1]))\n",
    "        benign_domains.append(line.strip())\n",
    "print(benign_domains[:10])\n",
    "benign_domains = set(benign_domains)"
   ]
  },
  {
   "cell_type": "code",
   "execution_count": 6,
   "metadata": {},
   "outputs": [
    {
     "name": "stdout",
     "output_type": "stream",
     "text": [
      "['com', 'net', 'gov', 'org', 'mil', 'co', 'net', 'gov', 'ac', 'sch']\n",
      "['freetuts', 'myshopify', 'siedev', 'nacesty', 'ringside24', 'wifigid', 'elsiglodetorreon', 'investors-protect', 'francaisfacile', 'online']\n"
     ]
    }
   ],
   "source": [
    "sldstlds = pd.read_csv(dp.MISC_PATH + 'SLDs.csv', header=None, names=['TLD', 'SLD'], sep=',')['SLD']\n",
    "slds = []\n",
    "for s in sldstlds:\n",
    "    spl = s.split('.')[-2]\n",
    "    if spl != '':\n",
    "        slds.append(spl)\n",
    "print(slds[:10])\n",
    "slds = set(slds)\n",
    "\n",
    "benign_dataset_domains = []\n",
    "for bdom in benign_domains:\n",
    "    benign_dataset_domains.append(dproc.get_domain_name(bdom, slds))\n",
    "    \n",
    "print(benign_dataset_domains[:10])\n",
    "benign_dataset_domains = set(benign_dataset_domains)"
   ]
  },
  {
   "cell_type": "markdown",
   "metadata": {},
   "source": [
    "# Label data"
   ]
  },
  {
   "cell_type": "code",
   "execution_count": 7,
   "metadata": {},
   "outputs": [
    {
     "name": "stdout",
     "output_type": "stream",
     "text": [
      "150624\n",
      "4292\n"
     ]
    }
   ],
   "source": [
    "data_labeled_train = []\n",
    "\n",
    "for d in data_attack:\n",
    "    if dproc.not_exfil(d):\n",
    "        data_labeled_train.append((d.lower(), 1))\n",
    "    else:\n",
    "        data_labeled_train.append((d.lower(), -1))\n",
    "        \n",
    "for d in data_benign:\n",
    "    data_labeled_train.append((d.lower(), 1))\n",
    "\n",
    "print(len([d for d in data_labeled_train if d[1] == 1]))\n",
    "print(len([d for d in data_labeled_train if d[1] == -1]))\n",
    "\n",
    "X = [d[0] for d in data_labeled_train]\n",
    "y = [d[1] for d in data_labeled_train]\n"
   ]
  },
  {
   "cell_type": "code",
   "execution_count": 8,
   "metadata": {},
   "outputs": [
    {
     "name": "stdout",
     "output_type": "stream",
     "text": [
      "28355\n",
      "10065\n"
     ]
    }
   ],
   "source": [
    "data_labeled_test = []\n",
    "\n",
    "for d in data_attack2:\n",
    "    if dproc.not_exfil(d):\n",
    "        data_labeled_test.append((d.lower(), 1))\n",
    "    else:\n",
    "        data_labeled_test.append((d.lower(), -1))\n",
    "\n",
    "print(len([d for d in data_labeled_test if d[1] == 1]))\n",
    "print(len([d for d in data_labeled_test if d[1] == -1]))\n",
    "\n",
    "X_test_2 = [d[0] for d in data_labeled_test]\n",
    "y_test_2 = [d[1] for d in data_labeled_test]"
   ]
  },
  {
   "cell_type": "markdown",
   "metadata": {},
   "source": [
    "# Import domains"
   ]
  },
  {
   "cell_type": "code",
   "execution_count": 9,
   "metadata": {},
   "outputs": [
    {
     "name": "stdout",
     "output_type": "stream",
     "text": [
      "1000000\n",
      "['wordpress', 'shopify', 'gravatar', 'wikipedia', 'bluehost', 'hover', 'yahoo', 'youtube', 'github', 'google']\n",
      "1009766\n"
     ]
    }
   ],
   "source": [
    "domains_file = dp.DOMAINS_PATH + 'crawlson.com-top-1m.txt'\n",
    "\n",
    "domains = pd.read_csv(domains_file, header=None, names=['id', 'domain'], sep=',')\n",
    "\n",
    "domains = [dproc.get_domain_name(d, slds) for d in domains['domain'].tolist()]\n",
    "\n",
    "# benign_domains = list(benign_domains)\n",
    "print(len(domains))\n",
    "domains += benign_dataset_domains\n",
    "print(domains[:10])\n",
    "print(len(domains))\n",
    "    "
   ]
  },
  {
   "cell_type": "markdown",
   "metadata": {},
   "source": [
    "# Transform to ngrams"
   ]
  },
  {
   "cell_type": "code",
   "execution_count": 10,
   "metadata": {},
   "outputs": [
    {
     "name": "stdout",
     "output_type": "stream",
     "text": [
      "er 0.01496667683514988\n",
      "in 0.013658316156199305\n",
      "s$ 0.011688687293165608\n",
      "an 0.011408658035810166\n",
      "en 0.01043702937107773\n",
      "ar 0.009609058249570058\n",
      "on 0.009532953013054622\n",
      "es 0.009528438966768067\n",
      "re 0.009527726222617558\n",
      "e$ 0.009092001965273204\n"
     ]
    }
   ],
   "source": [
    "# Split domains into bigrams\n",
    "domains_bigrams = bp.bigram_list(domains)\n",
    "\n",
    "# Get bigrams frequency\n",
    "domains_bigrams = bp.bigram_freq2(domains_bigrams)\n",
    "\n",
    "# Rank bigrams\n",
    "domains_bigrams = bp.rank_bigrams_freq(domains_bigrams)\n",
    "i = 0\n",
    "for dbkey, dbval in domains_bigrams.items():\n",
    "    print(dbkey, dbval)\n",
    "    i += 1\n",
    "    if i == 10:\n",
    "        break"
   ]
  },
  {
   "cell_type": "markdown",
   "metadata": {},
   "source": [
    "# Transform X to X_grams"
   ]
  },
  {
   "cell_type": "code",
   "execution_count": 11,
   "metadata": {},
   "outputs": [
    {
     "name": "stdout",
     "output_type": "stream",
     "text": [
      "154916\n"
     ]
    }
   ],
   "source": [
    "X_gram = []\n",
    "ae_unfound_value = 2**31 - 1\n",
    "\n",
    "for x in X:\n",
    "    \n",
    "    resx = []\n",
    "    \n",
    "    for level in x.split('.'):\n",
    "        if level == '':\n",
    "            continue\n",
    "        bx = bp.bigram_split(level)\n",
    "        for b in bx:\n",
    "            if b in domains_bigrams:\n",
    "                resx.append(domains_bigrams[b])\n",
    "            else:\n",
    "                resx.append(gl.unfound_value)\n",
    "    \n",
    "    resx = np.array(resx)\n",
    "    \n",
    "    if resx.shape[0] < gl.input_dim:\n",
    "        resx = np.pad(resx, (0, gl.input_dim - resx.shape[0]), 'constant', constant_values=(0))\n",
    "    if resx.shape[0] > gl.input_dim:\n",
    "        resx = resx[:gl.input_dim]\n",
    "        \n",
    "    \n",
    "    X_gram.append(resx)\n",
    "    \n",
    "print(len(X_gram))"
   ]
  },
  {
   "cell_type": "code",
   "execution_count": 12,
   "metadata": {},
   "outputs": [
    {
     "name": "stdout",
     "output_type": "stream",
     "text": [
      "[1.81512177e-04 2.12239369e-04 2.57617414e-04 3.29683767e-04\n",
      " 1.81512177e-04 2.12239369e-04 3.29683767e-04 3.17883891e-04\n",
      " 9.79627238e-05 9.00433443e-05 4.14262739e-04 3.17883891e-04\n",
      " 9.02809257e-05 3.83297965e-05 2.90799613e-04 2.58013382e-03\n",
      " 1.36583162e-02 1.24888614e-03 8.17279959e-04 3.25787432e-03\n",
      " 4.79914395e-04 2.57300638e-03 0.00000000e+00 0.00000000e+00\n",
      " 0.00000000e+00 0.00000000e+00 0.00000000e+00 0.00000000e+00\n",
      " 0.00000000e+00 0.00000000e+00 0.00000000e+00 0.00000000e+00\n",
      " 0.00000000e+00 0.00000000e+00 0.00000000e+00 0.00000000e+00\n",
      " 0.00000000e+00 0.00000000e+00 0.00000000e+00 0.00000000e+00\n",
      " 0.00000000e+00 0.00000000e+00 0.00000000e+00 0.00000000e+00\n",
      " 0.00000000e+00 0.00000000e+00 0.00000000e+00 0.00000000e+00\n",
      " 0.00000000e+00 0.00000000e+00 0.00000000e+00 0.00000000e+00\n",
      " 0.00000000e+00 0.00000000e+00 0.00000000e+00 0.00000000e+00\n",
      " 0.00000000e+00 0.00000000e+00 0.00000000e+00 0.00000000e+00\n",
      " 0.00000000e+00 0.00000000e+00 0.00000000e+00 0.00000000e+00]\n",
      "200.20.168.192.in-add.\n",
      "[1.81512177e-04 2.12239369e-04 2.57617414e-04 3.29683767e-04\n",
      " 1.81512177e-04 2.12239369e-04 3.29683767e-04 3.17883891e-04\n",
      " 9.79627238e-05 9.00433443e-05 4.14262739e-04 3.17883891e-04\n",
      " 9.02809257e-05 3.83297965e-05 2.90799613e-04 2.58013382e-03\n",
      " 1.36583162e-02 1.24888614e-03 8.17279959e-04 3.25787432e-03\n",
      " 4.79914395e-04 1.21903008e-03 4.26822875e-03 5.61175147e-03\n",
      " 9.60905825e-03 7.30404367e-04 3.34063183e-03 5.45946181e-03\n",
      " 0.00000000e+00 0.00000000e+00 0.00000000e+00 0.00000000e+00\n",
      " 0.00000000e+00 0.00000000e+00 0.00000000e+00 0.00000000e+00\n",
      " 0.00000000e+00 0.00000000e+00 0.00000000e+00 0.00000000e+00\n",
      " 0.00000000e+00 0.00000000e+00 0.00000000e+00 0.00000000e+00\n",
      " 0.00000000e+00 0.00000000e+00 0.00000000e+00 0.00000000e+00\n",
      " 0.00000000e+00 0.00000000e+00 0.00000000e+00 0.00000000e+00\n",
      " 0.00000000e+00 0.00000000e+00 0.00000000e+00 0.00000000e+00\n",
      " 0.00000000e+00 0.00000000e+00 0.00000000e+00 0.00000000e+00\n",
      " 0.00000000e+00 0.00000000e+00 0.00000000e+00 0.00000000e+00]\n",
      "200.20.168.192.in-addr.arpa.\n",
      "[1.81512177e-04 2.12239369e-04 2.57617414e-04 3.29683767e-04\n",
      " 1.81512177e-04 2.12239369e-04 3.29683767e-04 3.17883891e-04\n",
      " 9.79627238e-05 9.00433443e-05 4.14262739e-04 3.17883891e-04\n",
      " 9.02809257e-05 3.83297965e-05 2.90799613e-04 2.58013382e-03\n",
      " 1.36583162e-02 1.24888614e-03 8.17279959e-04 3.25787432e-03\n",
      " 4.79914395e-04 2.57300638e-03 0.00000000e+00 0.00000000e+00\n",
      " 0.00000000e+00 0.00000000e+00 0.00000000e+00 0.00000000e+00\n",
      " 0.00000000e+00 0.00000000e+00 0.00000000e+00 0.00000000e+00\n",
      " 0.00000000e+00 0.00000000e+00 0.00000000e+00 0.00000000e+00\n",
      " 0.00000000e+00 0.00000000e+00 0.00000000e+00 0.00000000e+00\n",
      " 0.00000000e+00 0.00000000e+00 0.00000000e+00 0.00000000e+00\n",
      " 0.00000000e+00 0.00000000e+00 0.00000000e+00 0.00000000e+00\n",
      " 0.00000000e+00 0.00000000e+00 0.00000000e+00 0.00000000e+00\n",
      " 0.00000000e+00 0.00000000e+00 0.00000000e+00 0.00000000e+00\n",
      " 0.00000000e+00 0.00000000e+00 0.00000000e+00 0.00000000e+00\n",
      " 0.00000000e+00 0.00000000e+00 0.00000000e+00 0.00000000e+00]\n",
      "200.20.168.192.in-add.\n",
      "[1.81512177e-04 2.12239369e-04 2.57617414e-04 3.29683767e-04\n",
      " 1.81512177e-04 2.12239369e-04 3.29683767e-04 3.17883891e-04\n",
      " 9.79627238e-05 9.00433443e-05 4.14262739e-04 3.17883891e-04\n",
      " 9.02809257e-05 3.83297965e-05 2.90799613e-04 2.58013382e-03\n",
      " 1.36583162e-02 1.24888614e-03 8.17279959e-04 3.25787432e-03\n",
      " 4.79914395e-04 1.21903008e-03 4.26822875e-03 5.61175147e-03\n",
      " 9.60905825e-03 7.30404367e-04 3.34063183e-03 5.45946181e-03\n",
      " 0.00000000e+00 0.00000000e+00 0.00000000e+00 0.00000000e+00\n",
      " 0.00000000e+00 0.00000000e+00 0.00000000e+00 0.00000000e+00\n",
      " 0.00000000e+00 0.00000000e+00 0.00000000e+00 0.00000000e+00\n",
      " 0.00000000e+00 0.00000000e+00 0.00000000e+00 0.00000000e+00\n",
      " 0.00000000e+00 0.00000000e+00 0.00000000e+00 0.00000000e+00\n",
      " 0.00000000e+00 0.00000000e+00 0.00000000e+00 0.00000000e+00\n",
      " 0.00000000e+00 0.00000000e+00 0.00000000e+00 0.00000000e+00\n",
      " 0.00000000e+00 0.00000000e+00 0.00000000e+00 0.00000000e+00\n",
      " 0.00000000e+00 0.00000000e+00 0.00000000e+00 0.00000000e+00]\n",
      "200.20.168.192.in-addr.arpa.\n"
     ]
    }
   ],
   "source": [
    "t = 0\n",
    "for i in range(4):\n",
    "    print(X_gram[i])\n",
    "    print(X[i])\n",
    "        "
   ]
  },
  {
   "cell_type": "code",
   "execution_count": 13,
   "metadata": {},
   "outputs": [
    {
     "name": "stdout",
     "output_type": "stream",
     "text": [
      "38420\n"
     ]
    }
   ],
   "source": [
    "X_gram_test = []\n",
    "ae_unfound_value = 2**31 - 1\n",
    "\n",
    "for x in X_test_2:\n",
    "    \n",
    "    resx = []\n",
    "    \n",
    "    for level in x.split('.'):\n",
    "        if level == '':\n",
    "            continue\n",
    "        bx = bp.bigram_split(level)\n",
    "        for b in bx:\n",
    "            if b in domains_bigrams:\n",
    "                resx.append(domains_bigrams[b])\n",
    "            else:\n",
    "                resx.append(gl.unfound_value)\n",
    "    \n",
    "    resx = np.array(resx)\n",
    "    \n",
    "    if resx.shape[0] < gl.input_dim:\n",
    "        resx = np.pad(resx, (0, gl.input_dim - resx.shape[0]), 'constant', constant_values=(0))\n",
    "    if resx.shape[0] > gl.input_dim:\n",
    "        resx = resx[:gl.input_dim]\n",
    "        \n",
    "    \n",
    "    X_gram_test.append(resx)\n",
    "print(len(X_test_2))"
   ]
  },
  {
   "cell_type": "code",
   "execution_count": 14,
   "metadata": {},
   "outputs": [
    {
     "name": "stdout",
     "output_type": "stream",
     "text": [
      "[2.58013382e-03 1.36583162e-02 3.68686710e-03 5.39808661e-03\n",
      " 6.87726831e-03 2.58013382e-03 1.36583162e-02 1.27026846e-04\n",
      " 5.64651755e-05 1.37329959e-03 6.35767782e-04 7.38878103e-05\n",
      " 1.45874969e-04 6.99281205e-05 1.84188927e-03 4.59719977e-04\n",
      " 7.88770193e-05 2.81636891e-03 2.03448858e-04 5.08424161e-04\n",
      " 1.61301921e-03 5.48179446e-04 4.64075636e-05 1.27343622e-04\n",
      " 9.87546617e-05 1.52368861e-04 7.52341048e-06 1.16414878e-05\n",
      " 1.57199682e-04 3.68488726e-04 3.51620448e-05 2.57379832e-05\n",
      " 2.32829756e-05 2.04874346e-04 6.30453879e-03 2.96960891e-03\n",
      " 5.05414797e-03 4.92189433e-03 1.61555341e-05 2.53420142e-05\n",
      " 3.52570773e-04 0.00000000e+00 0.00000000e+00 0.00000000e+00\n",
      " 0.00000000e+00 0.00000000e+00 0.00000000e+00 0.00000000e+00\n",
      " 0.00000000e+00 0.00000000e+00 0.00000000e+00 0.00000000e+00\n",
      " 0.00000000e+00 0.00000000e+00 0.00000000e+00 0.00000000e+00\n",
      " 0.00000000e+00 0.00000000e+00 0.00000000e+00 0.00000000e+00\n",
      " 0.00000000e+00 0.00000000e+00 0.00000000e+00 0.00000000e+00]\n",
      "init.inxwizkwgixhiylsfztxu7btgqzq.base64..\n",
      "[3.17883891e-04 7.72139496e-05 6.20087411e-05 3.29683767e-04\n",
      " 1.81512177e-04 2.12239369e-04 3.29683767e-04 3.17883891e-04\n",
      " 9.79627238e-05 9.00433443e-05 4.14262739e-04 3.17883891e-04\n",
      " 9.02809257e-05 3.83297965e-05 2.90799613e-04 2.58013382e-03\n",
      " 1.36583162e-02 1.24888614e-03 8.17279959e-04 3.25787432e-03\n",
      " 4.79914395e-04 2.57300638e-03 0.00000000e+00 0.00000000e+00\n",
      " 0.00000000e+00 0.00000000e+00 0.00000000e+00 0.00000000e+00\n",
      " 0.00000000e+00 0.00000000e+00 0.00000000e+00 0.00000000e+00\n",
      " 0.00000000e+00 0.00000000e+00 0.00000000e+00 0.00000000e+00\n",
      " 0.00000000e+00 0.00000000e+00 0.00000000e+00 0.00000000e+00\n",
      " 0.00000000e+00 0.00000000e+00 0.00000000e+00 0.00000000e+00\n",
      " 0.00000000e+00 0.00000000e+00 0.00000000e+00 0.00000000e+00\n",
      " 0.00000000e+00 0.00000000e+00 0.00000000e+00 0.00000000e+00\n",
      " 0.00000000e+00 0.00000000e+00 0.00000000e+00 0.00000000e+00\n",
      " 0.00000000e+00 0.00000000e+00 0.00000000e+00 0.00000000e+00\n",
      " 0.00000000e+00 0.00000000e+00 0.00000000e+00 0.00000000e+00]\n",
      "150.20.168.192.in-add.\n",
      "[3.17883891e-04 3.61202897e-04 3.52008497e-03 1.41036229e-03\n",
      " 3.74586648e-05 8.94889878e-06 5.82866328e-05 1.94658347e-04\n",
      " 1.17681979e-04 1.40964954e-05 1.08495498e-05 1.04290308e-03\n",
      " 4.83082146e-06 3.81714089e-05 9.50325534e-06 7.91937945e-06\n",
      " 7.99857324e-06 2.45896732e-04 6.58021239e-04 1.33774158e-03\n",
      " 1.54427899e-05 1.57595651e-05 5.22346430e-03 1.32253637e-05\n",
      " 3.40533316e-05 3.83297965e-05 1.22750381e-05 2.42768577e-03\n",
      " 1.59092414e-03 8.72002871e-04 3.56372075e-04 2.55225761e-03\n",
      " 6.16365303e-04 1.50072241e-04 1.92836890e-04 1.08099529e-04\n",
      " 1.08725160e-03 2.18178904e-04 2.58488545e-04 2.21188268e-04\n",
      " 3.33801844e-04 8.32089199e-04 0.00000000e+00 0.00000000e+00\n",
      " 0.00000000e+00 0.00000000e+00 0.00000000e+00 0.00000000e+00\n",
      " 0.00000000e+00 0.00000000e+00 0.00000000e+00 0.00000000e+00\n",
      " 0.00000000e+00 0.00000000e+00 0.00000000e+00 0.00000000e+00\n",
      " 0.00000000e+00 0.00000000e+00 0.00000000e+00 0.00000000e+00\n",
      " 0.00000000e+00 0.00000000e+00 0.00000000e+00 0.00000000e+00]\n",
      "1.ds3wkmk4if73n0ejev2to792igoiutwlwmuyhdw.\n",
      "[1.96083835e-04 2.72505847e-04 9.77251424e-05 3.29683767e-04\n",
      " 9.77251424e-05 3.29683767e-04 9.77251424e-05 3.29683767e-04\n",
      " 3.17883891e-04 3.61202897e-04 9.77251424e-05 3.29683767e-04\n",
      " 9.77251424e-05 3.29683767e-04 9.77251424e-05 3.29683767e-04\n",
      " 9.77251424e-05 3.29683767e-04 9.77251424e-05 3.29683767e-04\n",
      " 9.77251424e-05 3.29683767e-04 0.00000000e+00 0.00000000e+00\n",
      " 0.00000000e+00 0.00000000e+00 0.00000000e+00 0.00000000e+00\n",
      " 0.00000000e+00 0.00000000e+00 0.00000000e+00 0.00000000e+00\n",
      " 0.00000000e+00 0.00000000e+00 0.00000000e+00 0.00000000e+00\n",
      " 0.00000000e+00 0.00000000e+00 0.00000000e+00 0.00000000e+00\n",
      " 0.00000000e+00 0.00000000e+00 0.00000000e+00 0.00000000e+00\n",
      " 0.00000000e+00 0.00000000e+00 0.00000000e+00 0.00000000e+00\n",
      " 0.00000000e+00 0.00000000e+00 0.00000000e+00 0.00000000e+00\n",
      " 0.00000000e+00 0.00000000e+00 0.00000000e+00 0.00000000e+00\n",
      " 0.00000000e+00 0.00000000e+00 0.00000000e+00 0.00000000e+00\n",
      " 0.00000000e+00 0.00000000e+00 0.00000000e+00 0.00000000e+00]\n",
      "3.0.0.0.1.0.0.0.0.0.0.\n"
     ]
    }
   ],
   "source": [
    "t = 0\n",
    "for i in range(len(X_gram_test)):\n",
    "    if t >=4:\n",
    "        break\n",
    "    \n",
    "    if y_test_2[i] == -1 and t % 2 == 0:\n",
    "        print(X_gram_test[i])\n",
    "        print(X_test_2[i])\n",
    "        t += 1\n",
    "    if y_test_2[i] == 1 and t % 2 == 1:\n",
    "        print(X_gram_test[i])\n",
    "        print(X_test_2[i])\n",
    "        \n",
    "        t += 1"
   ]
  },
  {
   "cell_type": "markdown",
   "metadata": {},
   "source": [
    "# Model"
   ]
  },
  {
   "cell_type": "markdown",
   "metadata": {},
   "source": [
    "## Split, pipeline, grid search"
   ]
  },
  {
   "cell_type": "code",
   "execution_count": 23,
   "metadata": {},
   "outputs": [],
   "source": [
    "strat_shuffle_split = StratifiedShuffleSplit(n_splits=3, test_size=0.2, random_state=42)\n",
    "\n",
    "ngram_lr = Pipeline(steps=[('scaler', StandardScaler()), ('logreg', LogisticRegression(penalty='l2', max_iter=500))], verbose=True)\n",
    "params = {\n",
    "    'logreg__C': [0.1, 1, 10 , 100, 1000, 10000]\n",
    "}\n",
    "\n",
    "grid_lr = GridSearchCV(ngram_lr, param_grid=params, cv=strat_shuffle_split, verbose=1, n_jobs=9, scoring='precision')\n"
   ]
  },
  {
   "cell_type": "code",
   "execution_count": 24,
   "metadata": {},
   "outputs": [
    {
     "name": "stdout",
     "output_type": "stream",
     "text": [
      "Before downsampling: 150624\n",
      "Before downsampling: 4292\n",
      "After downsampling: 85840\n",
      "After downsampling: 4292\n"
     ]
    }
   ],
   "source": [
    "# Use downsampling\n",
    "X_gram = np.array(X_gram)\n",
    "y = np.array(y)\n",
    "\n",
    "# Downsample 1 from y\n",
    "print('Before downsampling:', len([d for d in y if d == 1]))\n",
    "print('Before downsampling:', len([d for d in y if d == -1]))\n",
    "\n",
    "downsampled_indices = np.random.choice(np.where(y == 1)[0], len([d for d in y if d == -1]) * 20, replace=False)\n",
    "downsampled_indices = np.concatenate((downsampled_indices, np.where(y == -1)[0]))\n",
    "\n",
    "X_gram_downsampled = X_gram[downsampled_indices]\n",
    "y_downsampled = y[downsampled_indices]\n",
    "\n",
    "print('After downsampling:', len([d for d in y_downsampled if d == 1]))\n",
    "print('After downsampling:', len([d for d in y_downsampled if d == -1]))\n"
   ]
  },
  {
   "cell_type": "markdown",
   "metadata": {},
   "source": [
    "## Train"
   ]
  },
  {
   "cell_type": "code",
   "execution_count": 25,
   "metadata": {},
   "outputs": [
    {
     "name": "stdout",
     "output_type": "stream",
     "text": [
      "Fitting 3 folds for each of 6 candidates, totalling 18 fits\n",
      "[Pipeline] ............ (step 1 of 2) Processing scaler, total=   0.3s\n",
      "[Pipeline] ............ (step 2 of 2) Processing logreg, total=   0.3s\n",
      "[Pipeline] ............ (step 1 of 2) Processing scaler, total=   0.3s\n",
      "[Pipeline] ............ (step 2 of 2) Processing logreg, total=   0.3s\n",
      "[Pipeline] ............ (step 1 of 2) Processing scaler, total=   0.2s\n",
      "[Pipeline] ............ (step 2 of 2) Processing logreg, total=   0.2s\n",
      "[Pipeline] ............ (step 1 of 2) Processing scaler, total=   0.3s\n",
      "[Pipeline] ............ (step 2 of 2) Processing logreg, total=   0.4s\n",
      "[Pipeline] ............ (step 1 of 2) Processing scaler, total=   0.2s\n",
      "[Pipeline] ............ (step 2 of 2) Processing logreg, total=   0.5s\n",
      "[Pipeline] ............ (step 1 of 2) Processing scaler, total=   0.2s\n",
      "[Pipeline] ............ (step 2 of 2) Processing logreg, total=   0.4s\n",
      "[Pipeline] ............ (step 1 of 2) Processing scaler, total=   0.2s\n",
      "[Pipeline] ............ (step 2 of 2) Processing logreg, total=   0.5s\n",
      "[Pipeline] ............ (step 1 of 2) Processing scaler, total=   0.3s\n",
      "[Pipeline] ............ (step 2 of 2) Processing logreg, total=   0.6s\n",
      "[Pipeline] ............ (step 1 of 2) Processing scaler, total=   0.3s\n",
      "[Pipeline] ............ (step 2 of 2) Processing logreg, total=   0.9s\n",
      "[Pipeline] ............ (step 1 of 2) Processing scaler, total=   0.3s\n",
      "[Pipeline] ............ (step 2 of 2) Processing logreg, total=   0.7s\n",
      "[Pipeline] ............ (step 1 of 2) Processing scaler, total=   0.2s\n",
      "[Pipeline] ............ (step 2 of 2) Processing logreg, total=   0.6s\n",
      "[Pipeline] ............ (step 1 of 2) Processing scaler, total=   0.2s\n",
      "[Pipeline] ............ (step 2 of 2) Processing logreg, total=   0.7s\n",
      "[Pipeline] ............ (step 1 of 2) Processing scaler, total=   0.2s\n",
      "[Pipeline] ............ (step 2 of 2) Processing logreg, total=   0.6s\n",
      "[Pipeline] ............ (step 1 of 2) Processing scaler, total=   0.4s\n",
      "[Pipeline] ............ (step 2 of 2) Processing logreg, total=   0.7s\n",
      "[Pipeline] ............ (step 1 of 2) Processing scaler, total=   0.3s\n",
      "[Pipeline] ............ (step 2 of 2) Processing logreg, total=   0.7s\n",
      "[Pipeline] ............ (step 1 of 2) Processing scaler, total=   0.3s\n",
      "[Pipeline] ............ (step 2 of 2) Processing logreg, total=   0.7s\n",
      "[Pipeline] ............ (step 1 of 2) Processing scaler, total=   0.3s\n",
      "[Pipeline] ............ (step 2 of 2) Processing logreg, total=   0.7s\n",
      "[Pipeline] ............ (step 1 of 2) Processing scaler, total=   0.4s\n",
      "[Pipeline] ............ (step 2 of 2) Processing logreg, total=   0.8s\n",
      "[Pipeline] ............ (step 1 of 2) Processing scaler, total=   0.3s\n",
      "[Pipeline] ............ (step 2 of 2) Processing logreg, total=   2.7s\n",
      "Fit done\n",
      "Predict done\n",
      "Classification report:\n",
      "               precision    recall  f1-score   support\n",
      "\n",
      "          -1       1.00      0.96      0.98       858\n",
      "           1       1.00      1.00      1.00     17169\n",
      "\n",
      "    accuracy                           1.00     18027\n",
      "   macro avg       1.00      0.98      0.99     18027\n",
      "weighted avg       1.00      1.00      1.00     18027\n",
      "\n",
      "ROC AUC: 0.9818182429138221\n",
      "AUC: 0.9818182429138221\n",
      "Fitting 3 folds for each of 6 candidates, totalling 18 fits\n",
      "[Pipeline] ............ (step 1 of 2) Processing scaler, total=   0.3s\n",
      "[Pipeline] ............ (step 2 of 2) Processing logreg, total=   0.3s\n",
      "[Pipeline] ............ (step 1 of 2) Processing scaler, total=   0.3s\n",
      "[Pipeline] ............ (step 2 of 2) Processing logreg, total=   0.4s\n",
      "[Pipeline] ............ (step 1 of 2) Processing scaler, total=   0.5s\n",
      "[Pipeline] ............ (step 2 of 2) Processing logreg, total=   0.6s\n",
      "[Pipeline] ............ (step 1 of 2) Processing scaler, total=   0.3s\n",
      "[Pipeline] ............ (step 2 of 2) Processing logreg, total=   0.4s\n",
      "[Pipeline] ............ (step 1 of 2) Processing scaler, total=   0.3s\n",
      "[Pipeline] ............ (step 2 of 2) Processing logreg, total=   0.5s\n",
      "[Pipeline] ............ (step 1 of 2) Processing scaler, total=   0.3s\n",
      "[Pipeline] ............ (step 2 of 2) Processing logreg, total=   0.6s\n",
      "[Pipeline] ............ (step 1 of 2) Processing scaler, total=   0.3s\n",
      "[Pipeline] ............ (step 2 of 2) Processing logreg, total=   0.6s\n",
      "[Pipeline] ............ (step 1 of 2) Processing scaler, total=   0.3s\n",
      "[Pipeline] ............ (step 2 of 2) Processing logreg, total=   0.6s\n",
      "[Pipeline] ............ (step 1 of 2) Processing scaler, total=   0.3s\n",
      "[Pipeline] ............ (step 2 of 2) Processing logreg, total=   0.6s\n",
      "[Pipeline] ............ (step 1 of 2) Processing scaler, total=   0.3s\n",
      "[Pipeline] ............ (step 2 of 2) Processing logreg, total=   0.6s\n",
      "[Pipeline] ............ (step 1 of 2) Processing scaler, total=   0.3s\n",
      "[Pipeline] ............ (step 2 of 2) Processing logreg, total=   0.6s\n",
      "[Pipeline] ............ (step 1 of 2) Processing scaler, total=   0.3s\n",
      "[Pipeline] ............ (step 2 of 2) Processing logreg, total=   0.7s\n",
      "[Pipeline] ............ (step 1 of 2) Processing scaler, total=   0.3s\n",
      "[Pipeline] ............ (step 2 of 2) Processing logreg, total=   0.8s\n",
      "[Pipeline] ............ (step 1 of 2) Processing scaler, total=   0.3s\n",
      "[Pipeline] ............ (step 2 of 2) Processing logreg, total=   0.5s\n",
      "[Pipeline] ............ (step 1 of 2) Processing scaler, total=   0.3s\n",
      "[Pipeline] ............ (step 2 of 2) Processing logreg, total=   0.7s\n",
      "[Pipeline] ............ (step 1 of 2) Processing scaler, total=   0.3s\n",
      "[Pipeline] ............ (step 2 of 2) Processing logreg, total=   0.7s\n",
      "[Pipeline] ............ (step 1 of 2) Processing scaler, total=   0.3s\n",
      "[Pipeline] ............ (step 2 of 2) Processing logreg, total=   0.6s\n",
      "[Pipeline] ............ (step 1 of 2) Processing scaler, total=   0.3s\n",
      "[Pipeline] ............ (step 2 of 2) Processing logreg, total=   0.7s\n",
      "[Pipeline] ............ (step 1 of 2) Processing scaler, total=   0.2s\n",
      "[Pipeline] ............ (step 2 of 2) Processing logreg, total=   2.2s\n",
      "Fit done\n",
      "Predict done\n",
      "Classification report:\n",
      "               precision    recall  f1-score   support\n",
      "\n",
      "          -1       0.99      0.97      0.98       858\n",
      "           1       1.00      1.00      1.00     17169\n",
      "\n",
      "    accuracy                           1.00     18027\n",
      "   macro avg       0.99      0.98      0.99     18027\n",
      "weighted avg       1.00      1.00      1.00     18027\n",
      "\n",
      "ROC AUC: 0.9823136267308904\n",
      "AUC: 0.9823136267308904\n",
      "Fitting 3 folds for each of 6 candidates, totalling 18 fits\n",
      "[Pipeline] ............ (step 1 of 2) Processing scaler, total=   0.3s\n",
      "[Pipeline] ............ (step 2 of 2) Processing logreg, total=   0.3s\n",
      "[Pipeline] ............ (step 1 of 2) Processing scaler, total=   0.3s\n",
      "[Pipeline] ............ (step 2 of 2) Processing logreg, total=   0.4s\n",
      "[Pipeline] ............ (step 1 of 2) Processing scaler, total=   0.3s\n",
      "[Pipeline] ............ (step 2 of 2) Processing logreg, total=   0.4s\n",
      "[Pipeline] ............ (step 1 of 2) Processing scaler, total=   0.3s\n",
      "[Pipeline] ............ (step 2 of 2) Processing logreg, total=   0.7s\n",
      "[Pipeline] ............ (step 1 of 2) Processing scaler, total=   0.3s\n",
      "[Pipeline] ............ (step 2 of 2) Processing logreg, total=   0.5s\n",
      "[Pipeline] ............ (step 1 of 2) Processing scaler, total=   0.3s\n",
      "[Pipeline] ............ (step 2 of 2) Processing logreg, total=   0.5s\n",
      "[Pipeline] ............ (step 1 of 2) Processing scaler, total=   0.3s\n",
      "[Pipeline] ............ (step 2 of 2) Processing logreg, total=   0.5s\n",
      "[Pipeline] ............ (step 1 of 2) Processing scaler, total=   0.3s\n",
      "[Pipeline] ............ (step 2 of 2) Processing logreg, total=   0.5s\n",
      "[Pipeline] ............ (step 1 of 2) Processing scaler, total=   0.3s\n",
      "[Pipeline] ............ (step 2 of 2) Processing logreg, total=   0.7s\n",
      "[Pipeline] ............ (step 1 of 2) Processing scaler, total=   0.3s\n",
      "[Pipeline] ............ (step 2 of 2) Processing logreg, total=   1.0s\n",
      "[Pipeline] ............ (step 1 of 2) Processing scaler, total=   0.3s\n",
      "[Pipeline] ............ (step 2 of 2) Processing logreg, total=   0.5s\n",
      "[Pipeline] ............ (step 1 of 2) Processing scaler, total=   0.3s\n",
      "[Pipeline] ............ (step 2 of 2) Processing logreg, total=   0.7s\n",
      "[Pipeline] ............ (step 1 of 2) Processing scaler, total=   0.3s\n",
      "[Pipeline] ............ (step 2 of 2) Processing logreg, total=   0.9s\n",
      "[Pipeline] ............ (step 1 of 2) Processing scaler, total=   0.3s\n",
      "[Pipeline] ............ (step 2 of 2) Processing logreg, total=   0.8s\n",
      "[Pipeline] ............ (step 1 of 2) Processing scaler, total=   0.3s\n",
      "[Pipeline] ............ (step 2 of 2) Processing logreg, total=   0.8s\n",
      "[Pipeline] ............ (step 1 of 2) Processing scaler, total=   0.3s\n",
      "[Pipeline] ............ (step 2 of 2) Processing logreg, total=   1.0s\n",
      "[Pipeline] ............ (step 1 of 2) Processing scaler, total=   0.3s\n",
      "[Pipeline] ............ (step 2 of 2) Processing logreg, total=   0.7s\n",
      "[Pipeline] ............ (step 1 of 2) Processing scaler, total=   0.3s\n",
      "[Pipeline] ............ (step 2 of 2) Processing logreg, total=   0.7s\n",
      "[Pipeline] ............ (step 1 of 2) Processing scaler, total=   0.3s\n",
      "[Pipeline] ............ (step 2 of 2) Processing logreg, total=   2.1s\n",
      "Fit done\n",
      "Predict done\n",
      "Classification report:\n",
      "               precision    recall  f1-score   support\n",
      "\n",
      "          -1       0.99      0.96      0.97       858\n",
      "           1       1.00      1.00      1.00     17169\n",
      "\n",
      "    accuracy                           1.00     18027\n",
      "   macro avg       0.99      0.98      0.99     18027\n",
      "weighted avg       1.00      1.00      1.00     18027\n",
      "\n",
      "ROC AUC: 0.9776224998136583\n",
      "AUC: 0.9776224998136583\n",
      "Best params: {'logreg__C': 10000}\n",
      "Best score: 0.99837618056244\n",
      "Best estimator: Pipeline(steps=[('scaler', StandardScaler()),\n",
      "                ('logreg', LogisticRegression(C=10000, max_iter=500))],\n",
      "         verbose=True)\n"
     ]
    },
    {
     "data": {
      "image/png": "[encoded data removed]",
      "text/plain": [
       "<Figure size 640x480 with 1 Axes>"
      ]
     },
     "metadata": {},
     "output_type": "display_data"
    },
    {
     "data": {
      "image/png": "[encoded data removed]",
      "text/plain": [
       "<Figure size 640x480 with 1 Axes>"
      ]
     },
     "metadata": {},
     "output_type": "display_data"
    },
    {
     "data": {
      "image/png": "[encoded data removed]",
      "text/plain": [
       "<Figure size 640x480 with 1 Axes>"
      ]
     },
     "metadata": {},
     "output_type": "display_data"
    }
   ],
   "source": [
    "batch_i = 1\n",
    "\n",
    "for train_index, test_index in strat_shuffle_split.split(X_gram_downsampled, y_downsampled):\n",
    "    X_train, X_test = [X_gram_downsampled[i] for i in train_index], [X_gram_downsampled[i] for i in test_index]\n",
    "    y_train, y_test = [y_downsampled[i] for i in train_index], [y_downsampled[i] for i in test_index]\n",
    "    \n",
    "    \n",
    "    grid_lr.fit(X_train, y_train)\n",
    "    print('Fit done')\n",
    "    \n",
    "    y_pred = grid_lr.predict(X_test)\n",
    "    print('Predict done')\n",
    "    \n",
    "    print('Classification report:\\n', classification_report(y_test, y_pred))\n",
    "    \n",
    "    \n",
    "    # Calculate roc and auc\n",
    "    roc_auc = roc_auc_score(y_test, y_pred)\n",
    "    print('ROC AUC:', roc_auc)\n",
    "    \n",
    "    # Roc curve\n",
    "    fpr, tpr, thresholds = roc_curve(y_test, y_pred)\n",
    "    auc_score = auc(fpr, tpr)\n",
    "    \n",
    "    print('AUC:', auc_score)\n",
    "    \n",
    "    fig, ax = plt.subplots()\n",
    "    ax.plot(fpr, tpr, label='ROC curve (area = %0.2f)' % auc_score)\n",
    "    ax.plot([0, 1], [0, 1], 'k--')\n",
    "    ax.set_xlim([0.0, 1.0])\n",
    "    ax.set_ylim([0.0, 1.05])\n",
    "    ax.set_xlabel('False Positive Rate')\n",
    "    ax.set_ylabel('True Positive Rate')\n",
    "    ax.set_title('Receiver operating characteristic')\n",
    "    \n",
    "    # Save\n",
    "    fig.savefig(f'roc_auc_lr_all_{batch_i}.png')\n",
    "    batch_i += 1\n",
    "    \n",
    "print('Best params:', grid_lr.best_params_)\n",
    "print('Best score:', grid_lr.best_score_)\n",
    "print('Best estimator:', grid_lr.best_estimator_)"
   ]
  },
  {
   "cell_type": "markdown",
   "metadata": {},
   "source": [
    "## Test"
   ]
  },
  {
   "cell_type": "code",
   "execution_count": 26,
   "metadata": {},
   "outputs": [
    {
     "name": "stdout",
     "output_type": "stream",
     "text": [
      "Classification report:\n",
      "               precision    recall  f1-score   support\n",
      "\n",
      "          -1       1.00      0.95      0.97     10065\n",
      "           1       0.98      1.00      0.99     28355\n",
      "\n",
      "    accuracy                           0.99     38420\n",
      "   macro avg       0.99      0.97      0.98     38420\n",
      "weighted avg       0.99      0.99      0.99     38420\n",
      "\n",
      "0\n",
      "28355\n",
      "0.0\n",
      "100.0\n",
      "[]\n",
      "=======\n",
      "510\n",
      "10065\n",
      "5.067064083457526\n",
      "94.93293591654248\n",
      "['init.inxwizkwgixhiylsfztxu7btgqzq.base64..', '9.96pvbaxxomhlim_rlnf2efo077qg99rls47_cr7.', '11.f7hplrrrbwwtlnsaae_oucyfbjpm58r0a_vfeu.', '16.kjtjbkgj-vspbu6cbg0tkl5wb3zrd8mu8ygj29.', '35.6q79ju372srikkpxqbai608d6thccduy4gvm7q.', '44.4q5qlud6gi2jmdxqynn7pr6omnfx0rktqfsf67.', '49.wj1nzykah2c6vnuzltn5sucuuy4wnx-kjoygs-.', '52.wzyawb736q7l_j3kjhzj1bbucbqozwh8s0kyav.', '80.gh-uoxfousfhd9qxsi1en2nhnwzrqv-45k4wf8.', '127.uepgyj3ir7u-md5tsxiyu2z9yfq8wg9kuwvg9.']\n"
     ]
    }
   ],
   "source": [
    "best_lr_model = grid_lr.best_estimator_\n",
    "y_pred = best_lr_model.predict(X_gram_test)\n",
    "\n",
    "print('Classification report:\\n', classification_report(y_test_2, y_pred))\n",
    "\n",
    "# P# Print all misclassified\n",
    "falses = 0\n",
    "falert = 0\n",
    "nonalert = 0\n",
    "falerts = []\n",
    "nonalerts=[]\n",
    "ppp= []\n",
    "qqq = []\n",
    "for i in range(len(y_test_2)):\n",
    "    if y_test_2[i] != y_pred[i]:\n",
    "        falses += 1\n",
    "        if y_pred[i] == -1:\n",
    "            falert += 1\n",
    "            falerts.append(X_test_2[i])\n",
    "        else:\n",
    "            nonalert += 1\n",
    "            nonalerts.append(X_test_2[i])\n",
    "        # print(f\"'{X[i]}'\", y[i], y_pred[i])\n",
    "    if y_test_2[i] == 1 and y_pred[i] == 1:\n",
    "        ppp.append(X[i])\n",
    "    if y_test_2[i] == -1 and y_pred[i] == -1:\n",
    "        qqq.append(X[i])\n",
    "# print(falses)\n",
    "alerts = len([d for d in y_test_2 if d == -1])\n",
    "good = len([d for d in y_test_2 if d == 1])\n",
    "\n",
    "print(falert)\n",
    "print(good)\n",
    "print(falert/good * 100)\n",
    "print(len(ppp) / good * 100)\n",
    "print(falerts[:10])\n",
    "print('=======')\n",
    "print(nonalert)\n",
    "print(alerts)\n",
    "print(nonalert/alerts * 100)\n",
    "print(len(qqq) / alerts * 100)\n",
    "print(nonalerts[:10])"
   ]
  },
  {
   "cell_type": "markdown",
   "metadata": {},
   "source": [
    "## Save the model"
   ]
  },
  {
   "cell_type": "code",
   "execution_count": 27,
   "metadata": {},
   "outputs": [],
   "source": [
    "with open('logisticregression_lower.pkl', 'wb') as f:\n",
    "    pickle.dump(best_lr_model, f)"
   ]
  },
  {
   "cell_type": "markdown",
   "metadata": {},
   "source": [
    "## Export data about the model"
   ]
  },
  {
   "cell_type": "code",
   "execution_count": 28,
   "metadata": {},
   "outputs": [
    {
     "name": "stdout",
     "output_type": "stream",
     "text": [
      "ROC AUC: 0.9746646795827123\n",
      "{\n",
      "    \"roc_auc\": 0.9746646795827123,\n",
      "    \"accuracy\": 0.9867256637168141,\n",
      "    \"benign\": {\n",
      "        \"precision\": 0.9823315433916507,\n",
      "        \"recall\": 1.0,\n",
      "        \"f1\": 0.9910870325061167\n",
      "    },\n",
      "    \"attack\": {\n",
      "        \"precision\": 1.0,\n",
      "        \"recall\": 0.9493293591654247,\n",
      "        \"f1\": 0.9740061162079511\n",
      "    },\n",
      "    \"tp\": 28355,\n",
      "    \"tn\": 9555,\n",
      "    \"fp\": 510,\n",
      "    \"fn\": 0,\n",
      "    \"false_alerts\": 0,\n",
      "    \"attack_passed\": 5.067064083457526\n",
      "}\n"
     ]
    }
   ],
   "source": [
    "roc_auc = roc_auc_score(y_test_2, y_pred)\n",
    "print(f'ROC AUC: {roc_auc}')\n",
    "\n",
    "fpr, tpr, _ = roc_curve(y_test_2, y_pred)\n",
    "\n",
    "roc_auc = auc(fpr, tpr)\n",
    "\n",
    "TP = 0\n",
    "TN = 0\n",
    "FP = 0\n",
    "FN = 0\n",
    "\n",
    "for i in range(len(y_test_2)):\n",
    "    if y_test_2[i] == y_pred[i]:\n",
    "        # True\n",
    "        if y_test_2[i] == 1:\n",
    "            TP += 1\n",
    "        else:\n",
    "            TN += 1\n",
    "    else:\n",
    "        # False\n",
    "        if y_pred[i] == 1:\n",
    "            FP += 1\n",
    "        else:\n",
    "            FN += 1\n",
    "            \n",
    "accuracy = (TP + TN)/(TP + TN + FN + FP)\n",
    "\n",
    "precision1 = TP / (TP + FP)\n",
    "precision0 = TN / (TN + FN)\n",
    "\n",
    "recall1 = TP / (TP + FN)\n",
    "recall0 = TN / (TN + FP)\n",
    "\n",
    "f11 = 2 * (precision1 * recall1)/(precision1 + recall1)\n",
    "f10 = 2 * (precision0 * recall0)/(precision0 + recall0)\n",
    "\n",
    "all_attack = len([d for d in y_test_2 if d == -1])\n",
    "\n",
    "lower_ae = {\n",
    "    'roc_auc': roc_auc,\n",
    "    'accuracy': accuracy,\n",
    "    'benign':{\n",
    "        'precision': precision1,\n",
    "        'recall': recall1,\n",
    "        'f1': f11\n",
    "    },\n",
    "    'attack':{\n",
    "        'precision': precision0,\n",
    "        'recall': recall0,\n",
    "        'f1': f10\n",
    "    },\n",
    "    'tp': TP,\n",
    "    'tn': TN,\n",
    "    'fp': FP,\n",
    "    'fn': FN,\n",
    "    'false_alerts': FN,\n",
    "    'attack_passed': (FP/all_attack) * 100\n",
    "}\n",
    "\n",
    "import json\n",
    "print(json.dumps(lower_ae, indent=4))\n",
    "\n",
    "with open('logisticregression_lower.json', 'w') as f:\n",
    "    json.dump(lower_ae, f, indent=4)"
   ]
  }
 ],
 "metadata": {
  "kernelspec": {
   "display_name": "venv",
   "language": "python",
   "name": "python3"
  },
  "language_info": {
   "codemirror_mode": {
    "name": "ipython",
    "version": 3
   },
   "file_extension": ".py",
   "mimetype": "text/x-python",
   "name": "python",
   "nbconvert_exporter": "python",
   "pygments_lexer": "ipython3",
   "version": "3.10.12"
  }
 },
 "nbformat": 4,
 "nbformat_minor": 2
}
